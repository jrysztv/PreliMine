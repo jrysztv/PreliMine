{
 "cells": [
  {
   "cell_type": "code",
   "execution_count": 18,
   "metadata": {},
   "outputs": [
    {
     "name": "stderr",
     "output_type": "stream",
     "text": [
      "C:\\Users\\ijara_go12\\AppData\\Local\\Temp\\ipykernel_12040\\3448177008.py:4: DeprecationWarning: Importing display from IPython.core.display is deprecated since IPython 7.14, please import from IPython display\n",
      "  from IPython.core.display import display, HTML\n"
     ]
    }
   ],
   "source": [
    "import networkx as nx\n",
    "from pyvis.network import Network\n",
    "import pandas as pd\n",
    "from IPython.core.display import display, HTML"
   ]
  },
  {
   "cell_type": "code",
   "execution_count": 30,
   "metadata": {},
   "outputs": [
    {
     "name": "stderr",
     "output_type": "stream",
     "text": [
      "C:\\Users\\ijara_go12\\AppData\\Local\\Temp\\ipykernel_12040\\20028730.py:4: DeprecationWarning: Importing display from IPython.core.display is deprecated since IPython 7.14, please import from IPython display\n",
      "  from IPython.core.display import display, HTML\n"
     ]
    },
    {
     "data": {
      "text/html": [
       "<a href=\"course_graph.html\" target=\"_blank\">Open Course Prerequisite Graph</a>"
      ],
      "text/plain": [
       "<IPython.core.display.HTML object>"
      ]
     },
     "metadata": {},
     "output_type": "display_data"
    }
   ],
   "source": [
    "import networkx as nx\n",
    "from pyvis.network import Network\n",
    "import pandas as pd\n",
    "from IPython.core.display import display, HTML\n",
    "\n",
    "# Sample data\n",
    "data = [\n",
    "    {\"course_name\": \"Introduction to Programming\", \"shorthand\": \"ITP\", \"preliminary\": [], \"semester\": 1},\n",
    "    {\"course_name\": \"Data Structures\", \"shorthand\": \"DST\", \"preliminary\": [\"ITP\"], \"semester\": 2},\n",
    "    {\"course_name\": \"Algorithms\", \"shorthand\": \"ALG\", \"preliminary\": [\"DST\"], \"semester\": 3},\n",
    "    {\"course_name\": \"Operating Systems\", \"shorthand\": \"OPS\", \"preliminary\": [\"DST\"], \"semester\": 3},\n",
    "    {\"course_name\": \"Database Systems\", \"shorthand\": \"DBS\", \"preliminary\": [\"DST\"], \"semester\": 3},\n",
    "    {\"course_name\": \"Software Engineering\", \"shorthand\": \"SWE\", \"preliminary\": [\"ALG\", \"OPS\", \"DBS\"], \"semester\": 4},\n",
    "]\n",
    "\n",
    "# Convert data to DataFrame\n",
    "df = pd.DataFrame(data)\n",
    "\n",
    "# Create a directed graph\n",
    "G = nx.DiGraph()\n",
    "\n",
    "# Add nodes with hover text (course name)\n",
    "for _, row in df.iterrows():\n",
    "    G.add_node(row['shorthand'], label=row['shorthand'], title=row['course_name'], semester=int(row['semester']))\n",
    "\n",
    "# Add edges based on preliminary courses\n",
    "for _, row in df.iterrows():\n",
    "    for prereq in row['preliminary']:\n",
    "        G.add_edge(prereq, row['shorthand'])\n",
    "\n",
    "# Set up pyvis network\n",
    "net = Network(height=\"750px\", width=\"100%\", directed=True)\n",
    "\n",
    "# Set node positions based on semester (Y-axis)\n",
    "positions = {}\n",
    "y_offset = 200\n",
    "for semester in sorted(df['semester'].unique()):\n",
    "    nodes_in_semester = df[df['semester'] == semester]['shorthand'].tolist()\n",
    "    for i, node in enumerate(nodes_in_semester):\n",
    "        positions[node] = (int(i * 150), int(semester * y_offset))\n",
    "\n",
    "# Apply positions and add nodes and edges\n",
    "for node, pos in positions.items():\n",
    "    net.add_node(node, label=node, title=G.nodes[node]['title'], x=pos[0], y=-pos[1])\n",
    "\n",
    "for edge in G.edges():\n",
    "    net.add_edge(edge[0], edge[1])\n",
    "\n",
    "# Generate the network graph\n",
    "net.set_options(\"\"\"\n",
    "var options = {\n",
    "  \"physics\": {\n",
    "    \"barnesHut\": {\n",
    "      \"gravitationalConstant\": -80000,\n",
    "      \"centralGravity\": 0.3,\n",
    "      \"springLength\": 95,\n",
    "      \"springConstant\": 0.04,\n",
    "      \"damping\": 0.09,\n",
    "      \"avoidOverlap\": 1\n",
    "    }\n",
    "  }\n",
    "}\n",
    "\"\"\")\n",
    "\n",
    "# Save the graph to an HTML file using write_html method\n",
    "net.write_html(\"course_graph.html\")\n",
    "\n",
    "# Provide a link to the saved HTML file\n",
    "display(HTML('<a href=\"course_graph.html\" target=\"_blank\">Open Course Prerequisite Graph</a>'))\n"
   ]
  },
  {
   "cell_type": "code",
   "execution_count": null,
   "metadata": {},
   "outputs": [],
   "source": [
    "\n",
    "# Provide a link to the saved HTML file\n",
    "display(HTML('<a href=\"course_graph.html\" target=\"_blank\">Open Course Prerequisite Graph</a>'))\n"
   ]
  },
  {
   "cell_type": "code",
   "execution_count": 32,
   "metadata": {},
   "outputs": [
    {
     "data": {
      "text/html": [
       "\n",
       "<style>\n",
       "  #altair-viz-ecd3a422fc9e49f783fd994dd76ffdac.vega-embed {\n",
       "    width: 100%;\n",
       "    display: flex;\n",
       "  }\n",
       "\n",
       "  #altair-viz-ecd3a422fc9e49f783fd994dd76ffdac.vega-embed details,\n",
       "  #altair-viz-ecd3a422fc9e49f783fd994dd76ffdac.vega-embed details summary {\n",
       "    position: relative;\n",
       "  }\n",
       "</style>\n",
       "<div id=\"altair-viz-ecd3a422fc9e49f783fd994dd76ffdac\"></div>\n",
       "<script type=\"text/javascript\">\n",
       "  var VEGA_DEBUG = (typeof VEGA_DEBUG == \"undefined\") ? {} : VEGA_DEBUG;\n",
       "  (function(spec, embedOpt){\n",
       "    let outputDiv = document.currentScript.previousElementSibling;\n",
       "    if (outputDiv.id !== \"altair-viz-ecd3a422fc9e49f783fd994dd76ffdac\") {\n",
       "      outputDiv = document.getElementById(\"altair-viz-ecd3a422fc9e49f783fd994dd76ffdac\");\n",
       "    }\n",
       "    const paths = {\n",
       "      \"vega\": \"https://cdn.jsdelivr.net/npm/vega@5?noext\",\n",
       "      \"vega-lib\": \"https://cdn.jsdelivr.net/npm/vega-lib?noext\",\n",
       "      \"vega-lite\": \"https://cdn.jsdelivr.net/npm/vega-lite@5.20.1?noext\",\n",
       "      \"vega-embed\": \"https://cdn.jsdelivr.net/npm/vega-embed@6?noext\",\n",
       "    };\n",
       "\n",
       "    function maybeLoadScript(lib, version) {\n",
       "      var key = `${lib.replace(\"-\", \"\")}_version`;\n",
       "      return (VEGA_DEBUG[key] == version) ?\n",
       "        Promise.resolve(paths[lib]) :\n",
       "        new Promise(function(resolve, reject) {\n",
       "          var s = document.createElement('script');\n",
       "          document.getElementsByTagName(\"head\")[0].appendChild(s);\n",
       "          s.async = true;\n",
       "          s.onload = () => {\n",
       "            VEGA_DEBUG[key] = version;\n",
       "            return resolve(paths[lib]);\n",
       "          };\n",
       "          s.onerror = () => reject(`Error loading script: ${paths[lib]}`);\n",
       "          s.src = paths[lib];\n",
       "        });\n",
       "    }\n",
       "\n",
       "    function showError(err) {\n",
       "      outputDiv.innerHTML = `<div class=\"error\" style=\"color:red;\">${err}</div>`;\n",
       "      throw err;\n",
       "    }\n",
       "\n",
       "    function displayChart(vegaEmbed) {\n",
       "      vegaEmbed(outputDiv, spec, embedOpt)\n",
       "        .catch(err => showError(`Javascript Error: ${err.message}<br>This usually means there's a typo in your chart specification. See the javascript console for the full traceback.`));\n",
       "    }\n",
       "\n",
       "    if(typeof define === \"function\" && define.amd) {\n",
       "      requirejs.config({paths});\n",
       "      require([\"vega-embed\"], displayChart, err => showError(`Error loading script: ${err.message}`));\n",
       "    } else {\n",
       "      maybeLoadScript(\"vega\", \"5\")\n",
       "        .then(() => maybeLoadScript(\"vega-lite\", \"5.20.1\"))\n",
       "        .then(() => maybeLoadScript(\"vega-embed\", \"6\"))\n",
       "        .catch(showError)\n",
       "        .then(() => displayChart(vegaEmbed));\n",
       "    }\n",
       "  })({\"config\": {\"view\": {\"continuousWidth\": 300, \"continuousHeight\": 300}}, \"layer\": [{\"data\": {\"name\": \"data-05eb3f6048ff9a5b1ba398bb5e3ae4f8\"}, \"mark\": {\"type\": \"rule\"}, \"encoding\": {\"x\": {\"field\": \"source_semester\", \"type\": \"ordinal\"}, \"x2\": {\"field\": \"target_semester\"}, \"y\": {\"field\": \"source\", \"type\": \"ordinal\"}, \"y2\": {\"field\": \"target\"}}}, {\"data\": {\"name\": \"data-9a7b8bdd8bbffd34185e9ee8312e328f\"}, \"mark\": {\"type\": \"circle\", \"size\": 300}, \"encoding\": {\"tooltip\": [{\"field\": \"course_name\", \"type\": \"nominal\"}, {\"field\": \"professor\", \"type\": \"nominal\"}, {\"field\": \"semester\", \"type\": \"quantitative\"}], \"x\": {\"axis\": {\"title\": \"Semester\"}, \"field\": \"semester\", \"type\": \"ordinal\"}, \"y\": {\"axis\": {\"title\": \"Course\"}, \"field\": \"shorthand\", \"type\": \"ordinal\"}}}, {\"data\": {\"name\": \"data-9a7b8bdd8bbffd34185e9ee8312e328f\"}, \"mark\": {\"type\": \"text\", \"align\": \"center\", \"baseline\": \"middle\", \"dy\": -10}, \"encoding\": {\"text\": {\"field\": \"shorthand\", \"type\": \"nominal\"}, \"tooltip\": [{\"field\": \"course_name\", \"type\": \"nominal\"}, {\"field\": \"professor\", \"type\": \"nominal\"}, {\"field\": \"semester\", \"type\": \"quantitative\"}], \"x\": {\"axis\": {\"title\": \"Semester\"}, \"field\": \"semester\", \"type\": \"ordinal\"}, \"y\": {\"axis\": {\"title\": \"Course\"}, \"field\": \"shorthand\", \"type\": \"ordinal\"}}}], \"height\": 400, \"width\": 600, \"$schema\": \"https://vega.github.io/schema/vega-lite/v5.20.1.json\", \"datasets\": {\"data-05eb3f6048ff9a5b1ba398bb5e3ae4f8\": [{\"source\": \"ITP\", \"target\": \"DST\", \"source_semester\": 1, \"target_semester\": 2}, {\"source\": \"DST\", \"target\": \"ALG\", \"source_semester\": 2, \"target_semester\": 3}, {\"source\": \"DST\", \"target\": \"OPS\", \"source_semester\": 2, \"target_semester\": 3}, {\"source\": \"DST\", \"target\": \"DBS\", \"source_semester\": 2, \"target_semester\": 3}, {\"source\": \"ALG\", \"target\": \"SWE\", \"source_semester\": 3, \"target_semester\": 4}, {\"source\": \"OPS\", \"target\": \"SWE\", \"source_semester\": 3, \"target_semester\": 4}, {\"source\": \"DBS\", \"target\": \"SWE\", \"source_semester\": 3, \"target_semester\": 4}], \"data-9a7b8bdd8bbffd34185e9ee8312e328f\": [{\"course_name\": \"Introduction to Programming\", \"shorthand\": \"ITP\", \"preliminary\": [], \"semester\": 1, \"professor\": \"Dr. Smith\"}, {\"course_name\": \"Data Structures\", \"shorthand\": \"DST\", \"preliminary\": [\"ITP\"], \"semester\": 2, \"professor\": \"Dr. Johnson\"}, {\"course_name\": \"Algorithms\", \"shorthand\": \"ALG\", \"preliminary\": [\"DST\"], \"semester\": 3, \"professor\": \"Dr. Williams\"}, {\"course_name\": \"Operating Systems\", \"shorthand\": \"OPS\", \"preliminary\": [\"DST\"], \"semester\": 3, \"professor\": \"Dr. Brown\"}, {\"course_name\": \"Database Systems\", \"shorthand\": \"DBS\", \"preliminary\": [\"DST\"], \"semester\": 3, \"professor\": \"Dr. Davis\"}, {\"course_name\": \"Software Engineering\", \"shorthand\": \"SWE\", \"preliminary\": [\"ALG\", \"OPS\", \"DBS\"], \"semester\": 4, \"professor\": \"Dr. Miller\"}]}}, {\"mode\": \"vega-lite\"});\n",
       "</script>"
      ],
      "text/plain": [
       "alt.LayerChart(...)"
      ]
     },
     "metadata": {},
     "output_type": "display_data"
    }
   ],
   "source": [
    "import pandas as pd\n",
    "import altair as alt\n",
    "\n",
    "# Sample data with additional metadata (professor)\n",
    "data = [\n",
    "    {\"course_name\": \"Introduction to Programming\", \"shorthand\": \"ITP\", \"preliminary\": [], \"semester\": 1, \"professor\": \"Dr. Smith\"},\n",
    "    {\"course_name\": \"Data Structures\", \"shorthand\": \"DST\", \"preliminary\": [\"ITP\"], \"semester\": 2, \"professor\": \"Dr. Johnson\"},\n",
    "    {\"course_name\": \"Algorithms\", \"shorthand\": \"ALG\", \"preliminary\": [\"DST\"], \"semester\": 3, \"professor\": \"Dr. Williams\"},\n",
    "    {\"course_name\": \"Operating Systems\", \"shorthand\": \"OPS\", \"preliminary\": [\"DST\"], \"semester\": 3, \"professor\": \"Dr. Brown\"},\n",
    "    {\"course_name\": \"Database Systems\", \"shorthand\": \"DBS\", \"preliminary\": [\"DST\"], \"semester\": 3, \"professor\": \"Dr. Davis\"},\n",
    "    {\"course_name\": \"Software Engineering\", \"shorthand\": \"SWE\", \"preliminary\": [\"ALG\", \"OPS\", \"DBS\"], \"semester\": 4, \"professor\": \"Dr. Miller\"},\n",
    "]\n",
    "\n",
    "# Convert data to DataFrame\n",
    "df = pd.DataFrame(data)\n",
    "\n",
    "# Create an edge DataFrame for Altair\n",
    "edges = []\n",
    "for _, row in df.iterrows():\n",
    "    for prereq in row['preliminary']:\n",
    "        edges.append({\n",
    "            \"source\": prereq, \n",
    "            \"target\": row['shorthand'],\n",
    "            \"source_semester\": df[df['shorthand'] == prereq]['semester'].values[0],\n",
    "            \"target_semester\": row['semester']\n",
    "        })\n",
    "\n",
    "edges_df = pd.DataFrame(edges)\n",
    "\n",
    "# Create the base chart for nodes (courses)\n",
    "nodes = alt.Chart(df).mark_circle(size=300).encode(\n",
    "    x=alt.X('semester:O', axis=alt.Axis(title='Semester')),\n",
    "    y=alt.Y('shorthand:O', axis=alt.Axis(title='Course')),\n",
    "    tooltip=['course_name', 'professor', 'semester']\n",
    ").properties(\n",
    "    width=600,\n",
    "    height=400\n",
    ")\n",
    "\n",
    "# Add text labels for the nodes\n",
    "text = nodes.mark_text(\n",
    "    align='center',\n",
    "    baseline='middle',\n",
    "    dy=-10  # Nudge text to be above the nodes\n",
    ").encode(\n",
    "    text='shorthand'\n",
    ")\n",
    "\n",
    "# Create the edges (prerequisites) as lines\n",
    "edges_chart = alt.Chart(edges_df).mark_rule().encode(\n",
    "    x=alt.X('source_semester:O'),\n",
    "    x2=alt.X2('target_semester:O'),\n",
    "    y=alt.Y('source:O'),\n",
    "    y2=alt.Y2('target:O'),\n",
    ")\n",
    "\n",
    "# Combine the charts\n",
    "chart = edges_chart + nodes + text\n",
    "\n",
    "# Display the chart\n",
    "chart.display()\n"
   ]
  },
  {
   "cell_type": "code",
   "execution_count": 12,
   "metadata": {},
   "outputs": [
    {
     "data": {
      "text/plain": [
       "<class 'pyvis.network.Network'> |N|=6 |E|=7"
      ]
     },
     "execution_count": 12,
     "metadata": {},
     "output_type": "execute_result"
    }
   ],
   "source": [
    "net"
   ]
  },
  {
   "cell_type": "code",
   "execution_count": 33,
   "metadata": {},
   "outputs": [
    {
     "name": "stdout",
     "output_type": "stream",
     "text": [
      "Warning: When  cdn_resources is 'local' jupyter notebook has issues displaying graphics on chrome/safari. Use cdn_resources='in_line' or cdn_resources='remote' if you have issues viewing graphics in a notebook.\n",
      "course_prerequisites.html\n"
     ]
    },
    {
     "data": {
      "text/html": [
       "\n",
       "        <iframe\n",
       "            width=\"100%\"\n",
       "            height=\"600px\"\n",
       "            src=\"course_prerequisites.html\"\n",
       "            frameborder=\"0\"\n",
       "            allowfullscreen\n",
       "            \n",
       "        ></iframe>\n",
       "        "
      ],
      "text/plain": [
       "<IPython.lib.display.IFrame at 0x27334d8dd90>"
      ]
     },
     "execution_count": 33,
     "metadata": {},
     "output_type": "execute_result"
    }
   ],
   "source": [
    "from pyvis.network import Network\n",
    "\n",
    "# Sample data with additional metadata (professor)\n",
    "data = [\n",
    "    {\"course_name\": \"Introduction to Programming\", \"shorthand\": \"ITP\", \"preliminary\": [], \"semester\": 1, \"professor\": \"Dr. Smith\"},\n",
    "    {\"course_name\": \"Data Structures\", \"shorthand\": \"DST\", \"preliminary\": [\"ITP\"], \"semester\": 2, \"professor\": \"Dr. Johnson\"},\n",
    "    {\"course_name\": \"Algorithms\", \"shorthand\": \"ALG\", \"preliminary\": [\"DST\"], \"semester\": 3, \"professor\": \"Dr. Williams\"},\n",
    "    {\"course_name\": \"Operating Systems\", \"shorthand\": \"OPS\", \"preliminary\": [\"DST\"], \"semester\": 3, \"professor\": \"Dr. Brown\"},\n",
    "    {\"course_name\": \"Database Systems\", \"shorthand\": \"DBS\", \"preliminary\": [\"DST\"], \"semester\": 3, \"professor\": \"Dr. Davis\"},\n",
    "    {\"course_name\": \"Software Engineering\", \"shorthand\": \"SWE\", \"preliminary\": [\"ALG\", \"OPS\", \"DBS\"], \"semester\": 4, \"professor\": \"Dr. Miller\"},\n",
    "]\n",
    "\n",
    "# Initialize the network\n",
    "net = Network(notebook=True, directed=True)\n",
    "\n",
    "# Add nodes with metadata\n",
    "for course in data:\n",
    "    title = (\n",
    "        f\"Course Name: {course['course_name']}<br>\"\n",
    "        f\"Semester: {course['semester']}<br>\"\n",
    "        f\"Professor: {course['professor']}\"\n",
    "    )\n",
    "    net.add_node(course['shorthand'], label=course['shorthand'], title=title)\n",
    "\n",
    "# Add edges based on prerequisites\n",
    "for course in data:\n",
    "    for prereq in course['preliminary']:\n",
    "        net.add_edge(prereq, course['shorthand'])\n",
    "\n",
    "# Customize the appearance\n",
    "net.repulsion(node_distance=150, central_gravity=0.3, spring_length=100, spring_strength=0.05)\n",
    "net.set_options(\"\"\"\n",
    "var options = {\n",
    "  \"nodes\": {\n",
    "    \"borderWidth\": 2,\n",
    "    \"borderWidthSelected\": 4,\n",
    "    \"color\": {\n",
    "      \"border\": \"rgba(0,0,0,0.8)\",\n",
    "      \"background\": \"rgba(255,255,255,1)\",\n",
    "      \"highlight\": {\n",
    "        \"border\": \"rgba(0,0,0,1)\",\n",
    "        \"background\": \"rgba(255,255,100,1)\"\n",
    "      }\n",
    "    },\n",
    "    \"font\": {\n",
    "      \"color\": \"rgba(0,0,0,0.9)\",\n",
    "      \"size\": 14,\n",
    "      \"face\": \"arial\"\n",
    "    }\n",
    "  },\n",
    "  \"edges\": {\n",
    "    \"color\": {\n",
    "      \"color\": \"rgba(100,100,100,0.5)\",\n",
    "      \"highlight\": \"rgba(150,150,150,0.8)\"\n",
    "    },\n",
    "    \"arrows\": {\n",
    "      \"to\": {\n",
    "        \"enabled\": true,\n",
    "        \"scaleFactor\": 1.5\n",
    "      }\n",
    "    }\n",
    "  },\n",
    "  \"interaction\": {\n",
    "    \"hover\": true,\n",
    "    \"tooltipDelay\": 200\n",
    "  }\n",
    "}\n",
    "\"\"\")\n",
    "\n",
    "# Show the graph\n",
    "net.show(\"course_prerequisites.html\")\n"
   ]
  },
  {
   "cell_type": "code",
   "execution_count": 2,
   "metadata": {},
   "outputs": [
    {
     "data": {
      "application/vnd.plotly.v1+json": {
       "config": {
        "plotlyServerURL": "https://plot.ly"
       },
       "data": [
        {
         "hoverinfo": "none",
         "line": {
          "color": "#888",
          "width": 2
         },
         "mode": "lines",
         "type": "scatter",
         "x": [
          -1,
          -0.39999999999999997,
          null,
          -1,
          0.2,
          null,
          -0.39999999999999997,
          0.2,
          null,
          -0.39999999999999997,
          0.2,
          null,
          -0.39999999999999997,
          0.2,
          null,
          0.2,
          0.7999999999999999,
          null,
          0.2,
          0.7999999999999999,
          null,
          0.2,
          0.7999999999999999,
          null
         ],
         "y": [
          0,
          0,
          null,
          0,
          0.6,
          null,
          0,
          0.6,
          null,
          0,
          -0.6,
          null,
          0,
          0,
          null,
          0.6,
          0,
          null,
          -0.6,
          0,
          null,
          0,
          0,
          null
         ]
        },
        {
         "hoverinfo": "text",
         "marker": {
          "color": [],
          "line": {
           "width": 2
          },
          "showscale": false,
          "size": 20
         },
         "mode": "markers+text",
         "text": [
          "ITP",
          "DST",
          "ALG",
          "OPS",
          "DBS",
          "SWE"
         ],
         "textfont": {
          "size": 12
         },
         "textposition": "top center",
         "type": "scatter",
         "x": [
          -1,
          -0.39999999999999997,
          0.2,
          0.2,
          0.2,
          0.7999999999999999
         ],
         "y": [
          0,
          0,
          0.6,
          -0.6,
          0,
          0
         ]
        }
       ],
       "layout": {
        "hovermode": "closest",
        "margin": {
         "b": 20,
         "l": 5,
         "r": 5,
         "t": 40
        },
        "showlegend": false,
        "template": {
         "data": {
          "bar": [
           {
            "error_x": {
             "color": "#2a3f5f"
            },
            "error_y": {
             "color": "#2a3f5f"
            },
            "marker": {
             "line": {
              "color": "#E5ECF6",
              "width": 0.5
             },
             "pattern": {
              "fillmode": "overlay",
              "size": 10,
              "solidity": 0.2
             }
            },
            "type": "bar"
           }
          ],
          "barpolar": [
           {
            "marker": {
             "line": {
              "color": "#E5ECF6",
              "width": 0.5
             },
             "pattern": {
              "fillmode": "overlay",
              "size": 10,
              "solidity": 0.2
             }
            },
            "type": "barpolar"
           }
          ],
          "carpet": [
           {
            "aaxis": {
             "endlinecolor": "#2a3f5f",
             "gridcolor": "white",
             "linecolor": "white",
             "minorgridcolor": "white",
             "startlinecolor": "#2a3f5f"
            },
            "baxis": {
             "endlinecolor": "#2a3f5f",
             "gridcolor": "white",
             "linecolor": "white",
             "minorgridcolor": "white",
             "startlinecolor": "#2a3f5f"
            },
            "type": "carpet"
           }
          ],
          "choropleth": [
           {
            "colorbar": {
             "outlinewidth": 0,
             "ticks": ""
            },
            "type": "choropleth"
           }
          ],
          "contour": [
           {
            "colorbar": {
             "outlinewidth": 0,
             "ticks": ""
            },
            "colorscale": [
             [
              0,
              "#0d0887"
             ],
             [
              0.1111111111111111,
              "#46039f"
             ],
             [
              0.2222222222222222,
              "#7201a8"
             ],
             [
              0.3333333333333333,
              "#9c179e"
             ],
             [
              0.4444444444444444,
              "#bd3786"
             ],
             [
              0.5555555555555556,
              "#d8576b"
             ],
             [
              0.6666666666666666,
              "#ed7953"
             ],
             [
              0.7777777777777778,
              "#fb9f3a"
             ],
             [
              0.8888888888888888,
              "#fdca26"
             ],
             [
              1,
              "#f0f921"
             ]
            ],
            "type": "contour"
           }
          ],
          "contourcarpet": [
           {
            "colorbar": {
             "outlinewidth": 0,
             "ticks": ""
            },
            "type": "contourcarpet"
           }
          ],
          "heatmap": [
           {
            "colorbar": {
             "outlinewidth": 0,
             "ticks": ""
            },
            "colorscale": [
             [
              0,
              "#0d0887"
             ],
             [
              0.1111111111111111,
              "#46039f"
             ],
             [
              0.2222222222222222,
              "#7201a8"
             ],
             [
              0.3333333333333333,
              "#9c179e"
             ],
             [
              0.4444444444444444,
              "#bd3786"
             ],
             [
              0.5555555555555556,
              "#d8576b"
             ],
             [
              0.6666666666666666,
              "#ed7953"
             ],
             [
              0.7777777777777778,
              "#fb9f3a"
             ],
             [
              0.8888888888888888,
              "#fdca26"
             ],
             [
              1,
              "#f0f921"
             ]
            ],
            "type": "heatmap"
           }
          ],
          "heatmapgl": [
           {
            "colorbar": {
             "outlinewidth": 0,
             "ticks": ""
            },
            "colorscale": [
             [
              0,
              "#0d0887"
             ],
             [
              0.1111111111111111,
              "#46039f"
             ],
             [
              0.2222222222222222,
              "#7201a8"
             ],
             [
              0.3333333333333333,
              "#9c179e"
             ],
             [
              0.4444444444444444,
              "#bd3786"
             ],
             [
              0.5555555555555556,
              "#d8576b"
             ],
             [
              0.6666666666666666,
              "#ed7953"
             ],
             [
              0.7777777777777778,
              "#fb9f3a"
             ],
             [
              0.8888888888888888,
              "#fdca26"
             ],
             [
              1,
              "#f0f921"
             ]
            ],
            "type": "heatmapgl"
           }
          ],
          "histogram": [
           {
            "marker": {
             "pattern": {
              "fillmode": "overlay",
              "size": 10,
              "solidity": 0.2
             }
            },
            "type": "histogram"
           }
          ],
          "histogram2d": [
           {
            "colorbar": {
             "outlinewidth": 0,
             "ticks": ""
            },
            "colorscale": [
             [
              0,
              "#0d0887"
             ],
             [
              0.1111111111111111,
              "#46039f"
             ],
             [
              0.2222222222222222,
              "#7201a8"
             ],
             [
              0.3333333333333333,
              "#9c179e"
             ],
             [
              0.4444444444444444,
              "#bd3786"
             ],
             [
              0.5555555555555556,
              "#d8576b"
             ],
             [
              0.6666666666666666,
              "#ed7953"
             ],
             [
              0.7777777777777778,
              "#fb9f3a"
             ],
             [
              0.8888888888888888,
              "#fdca26"
             ],
             [
              1,
              "#f0f921"
             ]
            ],
            "type": "histogram2d"
           }
          ],
          "histogram2dcontour": [
           {
            "colorbar": {
             "outlinewidth": 0,
             "ticks": ""
            },
            "colorscale": [
             [
              0,
              "#0d0887"
             ],
             [
              0.1111111111111111,
              "#46039f"
             ],
             [
              0.2222222222222222,
              "#7201a8"
             ],
             [
              0.3333333333333333,
              "#9c179e"
             ],
             [
              0.4444444444444444,
              "#bd3786"
             ],
             [
              0.5555555555555556,
              "#d8576b"
             ],
             [
              0.6666666666666666,
              "#ed7953"
             ],
             [
              0.7777777777777778,
              "#fb9f3a"
             ],
             [
              0.8888888888888888,
              "#fdca26"
             ],
             [
              1,
              "#f0f921"
             ]
            ],
            "type": "histogram2dcontour"
           }
          ],
          "mesh3d": [
           {
            "colorbar": {
             "outlinewidth": 0,
             "ticks": ""
            },
            "type": "mesh3d"
           }
          ],
          "parcoords": [
           {
            "line": {
             "colorbar": {
              "outlinewidth": 0,
              "ticks": ""
             }
            },
            "type": "parcoords"
           }
          ],
          "pie": [
           {
            "automargin": true,
            "type": "pie"
           }
          ],
          "scatter": [
           {
            "fillpattern": {
             "fillmode": "overlay",
             "size": 10,
             "solidity": 0.2
            },
            "type": "scatter"
           }
          ],
          "scatter3d": [
           {
            "line": {
             "colorbar": {
              "outlinewidth": 0,
              "ticks": ""
             }
            },
            "marker": {
             "colorbar": {
              "outlinewidth": 0,
              "ticks": ""
             }
            },
            "type": "scatter3d"
           }
          ],
          "scattercarpet": [
           {
            "marker": {
             "colorbar": {
              "outlinewidth": 0,
              "ticks": ""
             }
            },
            "type": "scattercarpet"
           }
          ],
          "scattergeo": [
           {
            "marker": {
             "colorbar": {
              "outlinewidth": 0,
              "ticks": ""
             }
            },
            "type": "scattergeo"
           }
          ],
          "scattergl": [
           {
            "marker": {
             "colorbar": {
              "outlinewidth": 0,
              "ticks": ""
             }
            },
            "type": "scattergl"
           }
          ],
          "scattermapbox": [
           {
            "marker": {
             "colorbar": {
              "outlinewidth": 0,
              "ticks": ""
             }
            },
            "type": "scattermapbox"
           }
          ],
          "scatterpolar": [
           {
            "marker": {
             "colorbar": {
              "outlinewidth": 0,
              "ticks": ""
             }
            },
            "type": "scatterpolar"
           }
          ],
          "scatterpolargl": [
           {
            "marker": {
             "colorbar": {
              "outlinewidth": 0,
              "ticks": ""
             }
            },
            "type": "scatterpolargl"
           }
          ],
          "scatterternary": [
           {
            "marker": {
             "colorbar": {
              "outlinewidth": 0,
              "ticks": ""
             }
            },
            "type": "scatterternary"
           }
          ],
          "surface": [
           {
            "colorbar": {
             "outlinewidth": 0,
             "ticks": ""
            },
            "colorscale": [
             [
              0,
              "#0d0887"
             ],
             [
              0.1111111111111111,
              "#46039f"
             ],
             [
              0.2222222222222222,
              "#7201a8"
             ],
             [
              0.3333333333333333,
              "#9c179e"
             ],
             [
              0.4444444444444444,
              "#bd3786"
             ],
             [
              0.5555555555555556,
              "#d8576b"
             ],
             [
              0.6666666666666666,
              "#ed7953"
             ],
             [
              0.7777777777777778,
              "#fb9f3a"
             ],
             [
              0.8888888888888888,
              "#fdca26"
             ],
             [
              1,
              "#f0f921"
             ]
            ],
            "type": "surface"
           }
          ],
          "table": [
           {
            "cells": {
             "fill": {
              "color": "#EBF0F8"
             },
             "line": {
              "color": "white"
             }
            },
            "header": {
             "fill": {
              "color": "#C8D4E3"
             },
             "line": {
              "color": "white"
             }
            },
            "type": "table"
           }
          ]
         },
         "layout": {
          "annotationdefaults": {
           "arrowcolor": "#2a3f5f",
           "arrowhead": 0,
           "arrowwidth": 1
          },
          "autotypenumbers": "strict",
          "coloraxis": {
           "colorbar": {
            "outlinewidth": 0,
            "ticks": ""
           }
          },
          "colorscale": {
           "diverging": [
            [
             0,
             "#8e0152"
            ],
            [
             0.1,
             "#c51b7d"
            ],
            [
             0.2,
             "#de77ae"
            ],
            [
             0.3,
             "#f1b6da"
            ],
            [
             0.4,
             "#fde0ef"
            ],
            [
             0.5,
             "#f7f7f7"
            ],
            [
             0.6,
             "#e6f5d0"
            ],
            [
             0.7,
             "#b8e186"
            ],
            [
             0.8,
             "#7fbc41"
            ],
            [
             0.9,
             "#4d9221"
            ],
            [
             1,
             "#276419"
            ]
           ],
           "sequential": [
            [
             0,
             "#0d0887"
            ],
            [
             0.1111111111111111,
             "#46039f"
            ],
            [
             0.2222222222222222,
             "#7201a8"
            ],
            [
             0.3333333333333333,
             "#9c179e"
            ],
            [
             0.4444444444444444,
             "#bd3786"
            ],
            [
             0.5555555555555556,
             "#d8576b"
            ],
            [
             0.6666666666666666,
             "#ed7953"
            ],
            [
             0.7777777777777778,
             "#fb9f3a"
            ],
            [
             0.8888888888888888,
             "#fdca26"
            ],
            [
             1,
             "#f0f921"
            ]
           ],
           "sequentialminus": [
            [
             0,
             "#0d0887"
            ],
            [
             0.1111111111111111,
             "#46039f"
            ],
            [
             0.2222222222222222,
             "#7201a8"
            ],
            [
             0.3333333333333333,
             "#9c179e"
            ],
            [
             0.4444444444444444,
             "#bd3786"
            ],
            [
             0.5555555555555556,
             "#d8576b"
            ],
            [
             0.6666666666666666,
             "#ed7953"
            ],
            [
             0.7777777777777778,
             "#fb9f3a"
            ],
            [
             0.8888888888888888,
             "#fdca26"
            ],
            [
             1,
             "#f0f921"
            ]
           ]
          },
          "colorway": [
           "#636efa",
           "#EF553B",
           "#00cc96",
           "#ab63fa",
           "#FFA15A",
           "#19d3f3",
           "#FF6692",
           "#B6E880",
           "#FF97FF",
           "#FECB52"
          ],
          "font": {
           "color": "#2a3f5f"
          },
          "geo": {
           "bgcolor": "white",
           "lakecolor": "white",
           "landcolor": "#E5ECF6",
           "showlakes": true,
           "showland": true,
           "subunitcolor": "white"
          },
          "hoverlabel": {
           "align": "left"
          },
          "hovermode": "closest",
          "mapbox": {
           "style": "light"
          },
          "paper_bgcolor": "white",
          "plot_bgcolor": "#E5ECF6",
          "polar": {
           "angularaxis": {
            "gridcolor": "white",
            "linecolor": "white",
            "ticks": ""
           },
           "bgcolor": "#E5ECF6",
           "radialaxis": {
            "gridcolor": "white",
            "linecolor": "white",
            "ticks": ""
           }
          },
          "scene": {
           "xaxis": {
            "backgroundcolor": "#E5ECF6",
            "gridcolor": "white",
            "gridwidth": 2,
            "linecolor": "white",
            "showbackground": true,
            "ticks": "",
            "zerolinecolor": "white"
           },
           "yaxis": {
            "backgroundcolor": "#E5ECF6",
            "gridcolor": "white",
            "gridwidth": 2,
            "linecolor": "white",
            "showbackground": true,
            "ticks": "",
            "zerolinecolor": "white"
           },
           "zaxis": {
            "backgroundcolor": "#E5ECF6",
            "gridcolor": "white",
            "gridwidth": 2,
            "linecolor": "white",
            "showbackground": true,
            "ticks": "",
            "zerolinecolor": "white"
           }
          },
          "shapedefaults": {
           "line": {
            "color": "#2a3f5f"
           }
          },
          "ternary": {
           "aaxis": {
            "gridcolor": "white",
            "linecolor": "white",
            "ticks": ""
           },
           "baxis": {
            "gridcolor": "white",
            "linecolor": "white",
            "ticks": ""
           },
           "bgcolor": "#E5ECF6",
           "caxis": {
            "gridcolor": "white",
            "linecolor": "white",
            "ticks": ""
           }
          },
          "title": {
           "x": 0.05
          },
          "xaxis": {
           "automargin": true,
           "gridcolor": "white",
           "linecolor": "white",
           "ticks": "",
           "title": {
            "standoff": 15
           },
           "zerolinecolor": "white",
           "zerolinewidth": 2
          },
          "yaxis": {
           "automargin": true,
           "gridcolor": "white",
           "linecolor": "white",
           "ticks": "",
           "title": {
            "standoff": 15
           },
           "zerolinecolor": "white",
           "zerolinewidth": 2
          }
         }
        },
        "title": {
         "font": {
          "size": 16
         },
         "text": "<br>Course Dependency Graph"
        },
        "xaxis": {
         "showgrid": false,
         "zeroline": false
        },
        "yaxis": {
         "showgrid": false,
         "zeroline": false
        }
       }
      }
     },
     "metadata": {},
     "output_type": "display_data"
    }
   ],
   "source": [
    "import pandas as pd\n",
    "import networkx as nx\n",
    "import plotly.graph_objects as go\n",
    "\n",
    "# Sample data with additional metadata (professor)\n",
    "data = [\n",
    "    {\"course_name\": \"Introduction to Programming\", \"shorthand\": \"ITP\", \"preliminary\": [], \"semester\": 1, \"professor\": \"Dr. Smith\"},\n",
    "    {\"course_name\": \"Data Structures\", \"shorthand\": \"DST\", \"preliminary\": [\"ITP\"], \"semester\": 2, \"professor\": \"Dr. Johnson\"},\n",
    "    {\"course_name\": \"Algorithms\", \"shorthand\": \"ALG\", \"preliminary\": [\"DST\", \"ITP\"], \"semester\": 3, \"professor\": \"Dr. Williams\"},\n",
    "    {\"course_name\": \"Operating Systems\", \"shorthand\": \"OPS\", \"preliminary\": [\"DST\"], \"semester\": 3, \"professor\": \"Dr. Brown\"},\n",
    "    {\"course_name\": \"Database Systems\", \"shorthand\": \"DBS\", \"preliminary\": [\"DST\"], \"semester\": 3, \"professor\": \"Dr. Davis\"},\n",
    "    {\"course_name\": \"Software Engineering\", \"shorthand\": \"SWE\", \"preliminary\": [\"ALG\", \"OPS\", \"DBS\"], \"semester\": 4, \"professor\": \"Dr. Miller\"},\n",
    "]\n",
    "\n",
    "# Convert data to DataFrame\n",
    "df = pd.DataFrame(data)\n",
    "\n",
    "# Create a directed graph\n",
    "G = nx.DiGraph()\n",
    "\n",
    "# Add nodes with metadata\n",
    "for _, row in df.iterrows():\n",
    "    G.add_node(row['shorthand'], label=row['course_name'], professor=row['professor'], semester=row['semester'])\n",
    "\n",
    "# Add edges\n",
    "for _, row in df.iterrows():\n",
    "    for pre in row['preliminary']:\n",
    "        G.add_edge(pre, row['shorthand'])\n",
    "\n",
    "# Assign subsets based on semester\n",
    "for node in G.nodes():\n",
    "    G.nodes[node]['subset'] = df[df['shorthand'] == node]['semester'].values[0]\n",
    "\n",
    "# Compute positions with a top-to-bottom layout and horizontal symmetry\n",
    "pos = nx.multipartite_layout(G, subset_key=\"subset\")\n",
    "\n",
    "# Prepare the edge traces\n",
    "edge_x = []\n",
    "edge_y = []\n",
    "for edge in G.edges():\n",
    "    x0, y0 = pos[edge[0]]\n",
    "    x1, y1 = pos[edge[1]]\n",
    "    edge_x.append(x0)\n",
    "    edge_x.append(x1)\n",
    "    edge_x.append(None)\n",
    "    edge_y.append(y0)\n",
    "    edge_y.append(y1)\n",
    "    edge_y.append(None)\n",
    "\n",
    "edge_trace = go.Scatter(\n",
    "    x=edge_x, y=edge_y,\n",
    "    line=dict(width=2, color='#888'),\n",
    "    hoverinfo='none',\n",
    "    mode='lines'\n",
    ")\n",
    "\n",
    "# Prepare the node traces\n",
    "node_x = []\n",
    "node_y = []\n",
    "node_text = []\n",
    "\n",
    "for node in G.nodes():\n",
    "    x, y = pos[node]\n",
    "    node_x.append(x)\n",
    "    node_y.append(y)\n",
    "    # Hover label\n",
    "    node_text.append(f\"{G.nodes[node]['label']}<br>Professor: {G.nodes[node]['professor']}\")\n",
    "\n",
    "node_trace = go.Scatter(\n",
    "    x=node_x, y=node_y,\n",
    "    mode='markers+text',\n",
    "    text=[node for node in G.nodes()],\n",
    "    hoverinfo='text',\n",
    "    marker=dict(\n",
    "        showscale=False,\n",
    "        color=[],\n",
    "        size=20,\n",
    "        line_width=2),\n",
    "    textposition=\"top center\",\n",
    "    textfont=dict(size=12)\n",
    ")\n",
    "\n",
    "# Create the figure\n",
    "fig = go.Figure(data=[edge_trace, node_trace],\n",
    "                layout=go.Layout(\n",
    "                    title='<br>Course Dependency Graph',\n",
    "                    titlefont_size=16,\n",
    "                    showlegend=False,\n",
    "                    hovermode='closest',\n",
    "                    margin=dict(b=20,l=5,r=5,t=40),\n",
    "                    xaxis=dict(showgrid=False, zeroline=False),\n",
    "                    yaxis=dict(showgrid=False, zeroline=False)\n",
    "                ))\n",
    "\n",
    "# Render the graph\n",
    "fig.show()\n"
   ]
  },
  {
   "cell_type": "code",
   "execution_count": 6,
   "metadata": {},
   "outputs": [
    {
     "data": {
      "text/html": [
       "\n",
       "<style>\n",
       "  #altair-viz-b3f4ffb9993b4c378a5c1b1f76ee5b4b.vega-embed {\n",
       "    width: 100%;\n",
       "    display: flex;\n",
       "  }\n",
       "\n",
       "  #altair-viz-b3f4ffb9993b4c378a5c1b1f76ee5b4b.vega-embed details,\n",
       "  #altair-viz-b3f4ffb9993b4c378a5c1b1f76ee5b4b.vega-embed details summary {\n",
       "    position: relative;\n",
       "  }\n",
       "</style>\n",
       "<div id=\"altair-viz-b3f4ffb9993b4c378a5c1b1f76ee5b4b\"></div>\n",
       "<script type=\"text/javascript\">\n",
       "  var VEGA_DEBUG = (typeof VEGA_DEBUG == \"undefined\") ? {} : VEGA_DEBUG;\n",
       "  (function(spec, embedOpt){\n",
       "    let outputDiv = document.currentScript.previousElementSibling;\n",
       "    if (outputDiv.id !== \"altair-viz-b3f4ffb9993b4c378a5c1b1f76ee5b4b\") {\n",
       "      outputDiv = document.getElementById(\"altair-viz-b3f4ffb9993b4c378a5c1b1f76ee5b4b\");\n",
       "    }\n",
       "    const paths = {\n",
       "      \"vega\": \"https://cdn.jsdelivr.net/npm/vega@5?noext\",\n",
       "      \"vega-lib\": \"https://cdn.jsdelivr.net/npm/vega-lib?noext\",\n",
       "      \"vega-lite\": \"https://cdn.jsdelivr.net/npm/vega-lite@5.20.1?noext\",\n",
       "      \"vega-embed\": \"https://cdn.jsdelivr.net/npm/vega-embed@6?noext\",\n",
       "    };\n",
       "\n",
       "    function maybeLoadScript(lib, version) {\n",
       "      var key = `${lib.replace(\"-\", \"\")}_version`;\n",
       "      return (VEGA_DEBUG[key] == version) ?\n",
       "        Promise.resolve(paths[lib]) :\n",
       "        new Promise(function(resolve, reject) {\n",
       "          var s = document.createElement('script');\n",
       "          document.getElementsByTagName(\"head\")[0].appendChild(s);\n",
       "          s.async = true;\n",
       "          s.onload = () => {\n",
       "            VEGA_DEBUG[key] = version;\n",
       "            return resolve(paths[lib]);\n",
       "          };\n",
       "          s.onerror = () => reject(`Error loading script: ${paths[lib]}`);\n",
       "          s.src = paths[lib];\n",
       "        });\n",
       "    }\n",
       "\n",
       "    function showError(err) {\n",
       "      outputDiv.innerHTML = `<div class=\"error\" style=\"color:red;\">${err}</div>`;\n",
       "      throw err;\n",
       "    }\n",
       "\n",
       "    function displayChart(vegaEmbed) {\n",
       "      vegaEmbed(outputDiv, spec, embedOpt)\n",
       "        .catch(err => showError(`Javascript Error: ${err.message}<br>This usually means there's a typo in your chart specification. See the javascript console for the full traceback.`));\n",
       "    }\n",
       "\n",
       "    if(typeof define === \"function\" && define.amd) {\n",
       "      requirejs.config({paths});\n",
       "      require([\"vega-embed\"], displayChart, err => showError(`Error loading script: ${err.message}`));\n",
       "    } else {\n",
       "      maybeLoadScript(\"vega\", \"5\")\n",
       "        .then(() => maybeLoadScript(\"vega-lite\", \"5.20.1\"))\n",
       "        .then(() => maybeLoadScript(\"vega-embed\", \"6\"))\n",
       "        .catch(showError)\n",
       "        .then(() => displayChart(vegaEmbed));\n",
       "    }\n",
       "  })({\"config\": {\"view\": {\"continuousWidth\": 300, \"continuousHeight\": 300, \"strokeWidth\": 0}, \"axis\": {\"domain\": false, \"grid\": false, \"labels\": false, \"ticks\": false, \"title\": null}}, \"layer\": [{\"data\": {\"name\": \"data-efb5e6cb95a6d83f86cc194a917b1e89\"}, \"mark\": {\"type\": \"line\"}, \"encoding\": {\"x\": {\"field\": \"x_source\", \"type\": \"quantitative\"}, \"x2\": {\"field\": \"x_target\"}, \"y\": {\"field\": \"y_source\", \"type\": \"quantitative\"}, \"y2\": {\"field\": \"y_target\"}}}, {\"data\": {\"name\": \"data-64bae1a30ba61b4bc0d9a60cc1bad049\"}, \"mark\": {\"type\": \"circle\", \"opacity\": 1, \"size\": 400}, \"encoding\": {\"color\": {\"field\": \"semester\", \"legend\": null, \"type\": \"nominal\"}, \"tooltip\": [{\"field\": \"course_name\", \"type\": \"nominal\"}, {\"field\": \"professor\", \"type\": \"nominal\"}], \"x\": {\"field\": \"x\", \"type\": \"quantitative\"}, \"y\": {\"field\": \"y\", \"type\": \"quantitative\"}}}, {\"data\": {\"name\": \"data-64bae1a30ba61b4bc0d9a60cc1bad049\"}, \"mark\": {\"type\": \"text\", \"align\": \"center\", \"baseline\": \"middle\", \"size\": 12}, \"encoding\": {\"text\": {\"field\": \"shorthand\", \"type\": \"nominal\"}, \"tooltip\": [{\"field\": \"course_name\", \"type\": \"nominal\"}, {\"field\": \"professor\", \"type\": \"nominal\"}], \"x\": {\"field\": \"x\", \"type\": \"quantitative\"}, \"y\": {\"field\": \"y\", \"type\": \"quantitative\"}}}], \"height\": 400, \"width\": 600, \"$schema\": \"https://vega.github.io/schema/vega-lite/v5.20.1.json\", \"datasets\": {\"data-efb5e6cb95a6d83f86cc194a917b1e89\": [{\"source\": \"ITP\", \"target\": \"DST\", \"shorthand_source\": \"ITP\", \"x_source\": -1.0, \"y_source\": 0.0, \"shorthand_target\": \"DST\", \"x_target\": -0.39999999999999997, \"y_target\": 0.0}, {\"source\": \"ITP\", \"target\": \"ALG\", \"shorthand_source\": \"ITP\", \"x_source\": -1.0, \"y_source\": 0.0, \"shorthand_target\": \"ALG\", \"x_target\": 0.2, \"y_target\": 0.6}, {\"source\": \"DST\", \"target\": \"ALG\", \"shorthand_source\": \"DST\", \"x_source\": -0.39999999999999997, \"y_source\": 0.0, \"shorthand_target\": \"ALG\", \"x_target\": 0.2, \"y_target\": 0.6}, {\"source\": \"DST\", \"target\": \"OPS\", \"shorthand_source\": \"DST\", \"x_source\": -0.39999999999999997, \"y_source\": 0.0, \"shorthand_target\": \"OPS\", \"x_target\": 0.2, \"y_target\": -0.6}, {\"source\": \"DST\", \"target\": \"DBS\", \"shorthand_source\": \"DST\", \"x_source\": -0.39999999999999997, \"y_source\": 0.0, \"shorthand_target\": \"DBS\", \"x_target\": 0.2, \"y_target\": 0.0}, {\"source\": \"ALG\", \"target\": \"SWE\", \"shorthand_source\": \"ALG\", \"x_source\": 0.2, \"y_source\": 0.6, \"shorthand_target\": \"SWE\", \"x_target\": 0.7999999999999999, \"y_target\": 0.0}, {\"source\": \"OPS\", \"target\": \"SWE\", \"shorthand_source\": \"OPS\", \"x_source\": 0.2, \"y_source\": -0.6, \"shorthand_target\": \"SWE\", \"x_target\": 0.7999999999999999, \"y_target\": 0.0}, {\"source\": \"DBS\", \"target\": \"SWE\", \"shorthand_source\": \"DBS\", \"x_source\": 0.2, \"y_source\": 0.0, \"shorthand_target\": \"SWE\", \"x_target\": 0.7999999999999999, \"y_target\": 0.0}], \"data-64bae1a30ba61b4bc0d9a60cc1bad049\": [{\"course_name\": \"Introduction to Programming\", \"shorthand\": \"ITP\", \"preliminary\": [], \"semester\": 1, \"professor\": \"Dr. Smith\", \"x\": -1.0, \"y\": 0.0}, {\"course_name\": \"Data Structures\", \"shorthand\": \"DST\", \"preliminary\": [\"ITP\"], \"semester\": 2, \"professor\": \"Dr. Johnson\", \"x\": -0.39999999999999997, \"y\": 0.0}, {\"course_name\": \"Algorithms\", \"shorthand\": \"ALG\", \"preliminary\": [\"DST\", \"ITP\"], \"semester\": 3, \"professor\": \"Dr. Williams\", \"x\": 0.2, \"y\": 0.6}, {\"course_name\": \"Operating Systems\", \"shorthand\": \"OPS\", \"preliminary\": [\"DST\"], \"semester\": 3, \"professor\": \"Dr. Brown\", \"x\": 0.2, \"y\": -0.6}, {\"course_name\": \"Database Systems\", \"shorthand\": \"DBS\", \"preliminary\": [\"DST\"], \"semester\": 3, \"professor\": \"Dr. Davis\", \"x\": 0.2, \"y\": 0.0}, {\"course_name\": \"Software Engineering\", \"shorthand\": \"SWE\", \"preliminary\": [\"ALG\", \"OPS\", \"DBS\"], \"semester\": 4, \"professor\": \"Dr. Miller\", \"x\": 0.7999999999999999, \"y\": 0.0}]}}, {\"mode\": \"vega-lite\"});\n",
       "</script>"
      ],
      "text/plain": [
       "alt.LayerChart(...)"
      ]
     },
     "metadata": {},
     "output_type": "display_data"
    }
   ],
   "source": [
    "import pandas as pd\n",
    "import networkx as nx\n",
    "import altair as alt\n",
    "\n",
    "# Sample data with additional metadata (professor)\n",
    "data = [\n",
    "    {\"course_name\": \"Introduction to Programming\", \"shorthand\": \"ITP\", \"preliminary\": [], \"semester\": 1, \"professor\": \"Dr. Smith\"},\n",
    "    {\"course_name\": \"Data Structures\", \"shorthand\": \"DST\", \"preliminary\": [\"ITP\"], \"semester\": 2, \"professor\": \"Dr. Johnson\"},\n",
    "    {\"course_name\": \"Algorithms\", \"shorthand\": \"ALG\", \"preliminary\": [\"DST\", \"ITP\"], \"semester\": 3, \"professor\": \"Dr. Williams\"},\n",
    "    {\"course_name\": \"Operating Systems\", \"shorthand\": \"OPS\", \"preliminary\": [\"DST\"], \"semester\": 3, \"professor\": \"Dr. Brown\"},\n",
    "    {\"course_name\": \"Database Systems\", \"shorthand\": \"DBS\", \"preliminary\": [\"DST\"], \"semester\": 3, \"professor\": \"Dr. Davis\"},\n",
    "    {\"course_name\": \"Software Engineering\", \"shorthand\": \"SWE\", \"preliminary\": [\"ALG\", \"OPS\", \"DBS\"], \"semester\": 4, \"professor\": \"Dr. Miller\"},\n",
    "]\n",
    "\n",
    "# Convert data to DataFrame\n",
    "df = pd.DataFrame(data)\n",
    "\n",
    "# Create a directed graph\n",
    "G = nx.DiGraph()\n",
    "\n",
    "# Add nodes with metadata\n",
    "for _, row in df.iterrows():\n",
    "    G.add_node(row['shorthand'], label=row['course_name'], professor=row['professor'], semester=row['semester'])\n",
    "\n",
    "# Add edges\n",
    "for _, row in df.iterrows():\n",
    "    for pre in row['preliminary']:\n",
    "        G.add_edge(pre, row['shorthand'])\n",
    "\n",
    "# Extract positions using a multipartite layout\n",
    "pos = nx.multipartite_layout(G, subset_key=\"semester\")\n",
    "\n",
    "# Convert position data to a DataFrame\n",
    "pos_df = pd.DataFrame(pos).T.reset_index()\n",
    "pos_df.columns = ['shorthand', 'x', 'y']\n",
    "\n",
    "# Merge position data with the original DataFrame\n",
    "df = df.merge(pos_df, on='shorthand')\n",
    "\n",
    "# Create a DataFrame for edges\n",
    "edge_df = pd.DataFrame(list(G.edges()), columns=['source', 'target'])\n",
    "edge_df = edge_df.merge(df[['shorthand', 'x', 'y']], left_on='source', right_on='shorthand')\n",
    "edge_df = edge_df.merge(df[['shorthand', 'x', 'y']], left_on='target', right_on='shorthand', suffixes=('_source', '_target'))\n",
    "\n",
    "# Plot the graph using Altair\n",
    "edge_chart = alt.Chart(edge_df).mark_line().encode(\n",
    "    x='x_source',\n",
    "    y='y_source',\n",
    "    x2='x_target',\n",
    "    y2='y_target'\n",
    ").properties(\n",
    "    width=600,\n",
    "    height=400\n",
    ")\n",
    "\n",
    "# Node chart with larger, non-transparent nodes\n",
    "node_chart = alt.Chart(df).mark_circle(size=400, opacity=1).encode(\n",
    "    x='x',\n",
    "    y='y',\n",
    "    tooltip=['course_name', 'professor'],\n",
    "    color=alt.Color('semester:N', legend=None)\n",
    ").properties(\n",
    "    width=600,\n",
    "    height=400\n",
    ")\n",
    "\n",
    "# Text chart with labels inside nodes\n",
    "text_chart = alt.Chart(df).mark_text(align='center', baseline='middle', size=12).encode(\n",
    "    x='x',\n",
    "    y='y',\n",
    "    text='shorthand',\n",
    "    tooltip=['course_name', 'professor']\n",
    ")\n",
    "\n",
    "# Combine the edge and node charts\n",
    "chart = edge_chart + node_chart + text_chart\n",
    "\n",
    "# Hide axis lines and ticks, remove axis titles\n",
    "chart = chart.configure_axis(\n",
    "    grid=False,\n",
    "    domain=False,\n",
    "    ticks=False,\n",
    "    labels=False,\n",
    "    title=None\n",
    ").configure_view(\n",
    "    strokeWidth=0\n",
    ")\n",
    "\n",
    "# Render the chart\n",
    "chart.show()\n"
   ]
  },
  {
   "cell_type": "code",
   "execution_count": 3,
   "metadata": {},
   "outputs": [
    {
     "data": {
      "image/png": "[encoded data removed]",
      "text/plain": [
       "<Figure size 1000x800 with 1 Axes>"
      ]
     },
     "metadata": {},
     "output_type": "display_data"
    }
   ],
   "source": [
    "import matplotlib.pyplot as plt\n",
    "import networkx as nx\n",
    "\n",
    "# Data setup\n",
    "data = [\n",
    "    {\"course_name\": \"Introduction to Programming\", \"shorthand\": \"ITP\", \"preliminary\": [], \"semester\": 1, \"professor\": \"Dr. Smith\"},\n",
    "    {\"course_name\": \"Data Structures\", \"shorthand\": \"DST\", \"preliminary\": [\"ITP\"], \"semester\": 2, \"professor\": \"Dr. Johnson\"},\n",
    "    {\"course_name\": \"Algorithms\", \"shorthand\": \"ALG\", \"preliminary\": [\"DST\", \"ITP\"], \"semester\": 3, \"professor\": \"Dr. Williams\"},\n",
    "    {\"course_name\": \"Operating Systems\", \"shorthand\": \"OPS\", \"preliminary\": [\"DST\"], \"semester\": 3, \"professor\": \"Dr. Brown\"},\n",
    "    {\"course_name\": \"Database Systems\", \"shorthand\": \"DBS\", \"preliminary\": [\"DST\"], \"semester\": 3, \"professor\": \"Dr. Davis\"},\n",
    "    {\"course_name\": \"Software Engineering\", \"shorthand\": \"SWE\", \"preliminary\": [\"ALG\", \"OPS\", \"DBS\"], \"semester\": 4, \"professor\": \"Dr. Miller\"},\n",
    "]\n",
    "\n",
    "# Create the directed graph\n",
    "G = nx.DiGraph()\n",
    "\n",
    "# Add nodes and edges\n",
    "for course in data:\n",
    "    G.add_node(course['shorthand'], label=course['course_name'], semester=course['semester'], professor=course['professor'])\n",
    "    for pre in course['preliminary']:\n",
    "        G.add_edge(pre, course['shorthand'])\n",
    "\n",
    "# Recursive function to calculate positions\n",
    "def hierarchy_pos(G, root=None, width=1., vert_gap=0.2, vert_loc=0, xcenter=0.5):\n",
    "    pos = _hierarchy_pos(G, root, width, vert_gap, vert_loc, xcenter)\n",
    "    return pos\n",
    "\n",
    "def _hierarchy_pos(G, root, width=1., vert_gap=0.2, vert_loc=0, xcenter=0.5, pos=None, parent=None, parsed=[]):\n",
    "    if pos is None:\n",
    "        pos = {root: (xcenter, vert_loc)}\n",
    "    else:\n",
    "        pos[root] = (xcenter, vert_loc)\n",
    "    children = list(G.neighbors(root))\n",
    "    if not isinstance(G, nx.DiGraph) and parent is not None:\n",
    "        children.remove(parent)  \n",
    "    if len(children) != 0:\n",
    "        dx = width / len(children) \n",
    "        nextx = xcenter - width/2 - dx/2\n",
    "        for child in children:\n",
    "            nextx += dx\n",
    "            pos = _hierarchy_pos(G, child, width=dx, vert_gap=vert_gap, vert_loc=vert_loc-vert_gap, xcenter=nextx, pos=pos, parent=root, parsed=parsed)\n",
    "    return pos\n",
    "\n",
    "# Compute the positions\n",
    "pos = hierarchy_pos(G, root=\"ITP\")\n",
    "\n",
    "# Draw the graph\n",
    "plt.figure(figsize=(10, 8))\n",
    "nx.draw(G, pos=pos, with_labels=True, arrows=True, node_size=3000, node_color=\"lightblue\", font_size=10, font_weight=\"bold\")\n",
    "labels = nx.get_node_attributes(G, 'label')\n",
    "nx.draw_networkx_labels(G, pos, labels)\n",
    "plt.title(\"Strict Hierarchical Tree Layout of Courses\")\n",
    "plt.show()\n"
   ]
  },
  {
   "cell_type": "code",
   "execution_count": 4,
   "metadata": {},
   "outputs": [
    {
     "data": {
      "image/png": "[encoded data removed]",
      "text/plain": [
       "<Figure size 1000x800 with 1 Axes>"
      ]
     },
     "metadata": {},
     "output_type": "display_data"
    }
   ],
   "source": [
    "import networkx as nx\n",
    "import seaborn as sns\n",
    "import matplotlib.pyplot as plt\n",
    "import mplcursors\n",
    "\n",
    "# Data setup\n",
    "data = [\n",
    "    {\"course_name\": \"Introduction to Programming\", \"shorthand\": \"ITP\", \"preliminary\": [], \"semester\": 1, \"professor\": \"Dr. Smith\"},\n",
    "    {\"course_name\": \"Data Structures\", \"shorthand\": \"DST\", \"preliminary\": [\"ITP\"], \"semester\": 2, \"professor\": \"Dr. Johnson\"},\n",
    "    {\"course_name\": \"Algorithms\", \"shorthand\": \"ALG\", \"preliminary\": [\"DST\", \"ITP\"], \"semester\": 3, \"professor\": \"Dr. Williams\"},\n",
    "    {\"course_name\": \"Operating Systems\", \"shorthand\": \"OPS\", \"preliminary\": [\"DST\"], \"semester\": 3, \"professor\": \"Dr. Brown\"},\n",
    "    {\"course_name\": \"Database Systems\", \"shorthand\": \"DBS\", \"preliminary\": [\"DST\"], \"semester\": 3, \"professor\": \"Dr. Davis\"},\n",
    "    {\"course_name\": \"Software Engineering\", \"shorthand\": \"SWE\", \"preliminary\": [\"ALG\", \"OPS\", \"DBS\"], \"semester\": 4, \"professor\": \"Dr. Miller\"},\n",
    "]\n",
    "\n",
    "# Create the directed graph\n",
    "G = nx.DiGraph()\n",
    "\n",
    "# Add nodes and edges\n",
    "for course in data:\n",
    "    G.add_node(course['shorthand'], label=course['course_name'], semester=course['semester'], professor=course['professor'])\n",
    "    for pre in course['preliminary']:\n",
    "        G.add_edge(pre, course['shorthand'])\n",
    "\n",
    "# Recursive function to calculate positions\n",
    "def hierarchy_pos(G, root=None, width=1., vert_gap=0.2, vert_loc=0, xcenter=0.5):\n",
    "    pos = _hierarchy_pos(G, root, width, vert_gap, vert_loc, xcenter)\n",
    "    return pos\n",
    "\n",
    "def _hierarchy_pos(G, root, width=1., vert_gap=0.2, vert_loc=0, xcenter=0.5, pos=None, parent=None, parsed=[]):\n",
    "    if pos is None:\n",
    "        pos = {root: (xcenter, vert_loc)}\n",
    "    else:\n",
    "        pos[root] = (xcenter, vert_loc)\n",
    "    children = list(G.neighbors(root))\n",
    "    if not isinstance(G, nx.DiGraph) and parent is not None:\n",
    "        children.remove(parent)  \n",
    "    if len(children) != 0:\n",
    "        dx = width / len(children) \n",
    "        nextx = xcenter - width/2 - dx/2\n",
    "        for child in children:\n",
    "            nextx += dx\n",
    "            pos = _hierarchy_pos(G, child, width=dx, vert_gap=vert_gap, vert_loc=vert_loc-vert_gap, xcenter=nextx, pos=pos, parent=root, parsed=parsed)\n",
    "    return pos\n",
    "\n",
    "# Compute the positions\n",
    "pos = hierarchy_pos(G, root=\"ITP\")\n",
    "\n",
    "# Set up Seaborn style\n",
    "sns.set(style=\"whitegrid\")\n",
    "\n",
    "# Create the figure and axis\n",
    "fig, ax = plt.subplots(figsize=(10, 8))\n",
    "\n",
    "# Draw the graph with Seaborn aesthetics\n",
    "nx.draw(G, pos=pos, with_labels=True, labels={node: node for node in G.nodes()}, arrows=True,\n",
    "        node_size=3000, node_color=sns.color_palette(\"Blues\", len(G.nodes())),\n",
    "        font_size=10, font_weight=\"bold\", ax=ax)\n",
    "\n",
    "# Create hover labels for full course names\n",
    "labels = nx.get_node_attributes(G, 'label')\n",
    "hover_labels = {k: f\"Course: {v}\\nSemester: {G.nodes[k]['semester']}\\nProfessor: {G.nodes[k]['professor']}\" for k, v in labels.items()}\n",
    "\n",
    "# Attach hover functionality using mplcursors\n",
    "cursor = mplcursors.cursor(ax, hover=True)\n",
    "@cursor.connect(\"add\")\n",
    "def on_add(sel):\n",
    "    node = sel.index\n",
    "    label = hover_labels.get(list(G.nodes)[node])\n",
    "    sel.annotation.set(text=label, position=(0, 20), anncoords=\"offset points\")\n",
    "\n",
    "# Set the title\n",
    "plt.title(\"Strict Hierarchical Tree Layout of Courses\", fontsize=16)\n",
    "\n",
    "plt.show()\n"
   ]
  },
  {
   "cell_type": "code",
   "execution_count": 1,
   "metadata": {},
   "outputs": [],
   "source": [
    "import pandas as pd"
   ]
  },
  {
   "cell_type": "code",
   "execution_count": 2,
   "metadata": {},
   "outputs": [
    {
     "data": {
      "text/html": [
       "<div>\n",
       "<style scoped>\n",
       "    .dataframe tbody tr th:only-of-type {\n",
       "        vertical-align: middle;\n",
       "    }\n",
       "\n",
       "    .dataframe tbody tr th {\n",
       "        vertical-align: top;\n",
       "    }\n",
       "\n",
       "    .dataframe thead th {\n",
       "        text-align: right;\n",
       "    }\n",
       "</style>\n",
       "<table border=\"1\" class=\"dataframe\">\n",
       "  <thead>\n",
       "    <tr style=\"text-align: right;\">\n",
       "      <th></th>\n",
       "      <th>Unnamed: 0</th>\n",
       "      <th>This version: 2024-08-01</th>\n",
       "      <th>Unnamed: 2</th>\n",
       "      <th>Unnamed: 3</th>\n",
       "      <th>Unnamed: 4</th>\n",
       "      <th>Unnamed: 5</th>\n",
       "      <th>Unnamed: 6</th>\n",
       "      <th>Unnamed: 7</th>\n",
       "      <th>Unnamed: 8</th>\n",
       "    </tr>\n",
       "  </thead>\n",
       "  <tbody>\n",
       "    <tr>\n",
       "      <th>0</th>\n",
       "      <td>NaN</td>\n",
       "      <td>MS IN BUSINESS ANALYTICS COURSE LIST 2024-25</td>\n",
       "      <td>NaN</td>\n",
       "      <td>NaN</td>\n",
       "      <td>NaN</td>\n",
       "      <td>NaN</td>\n",
       "      <td>NaN</td>\n",
       "      <td>NaN</td>\n",
       "      <td>NaN</td>\n",
       "    </tr>\n",
       "    <tr>\n",
       "      <th>1</th>\n",
       "      <td>0. PRE-SESSION</td>\n",
       "      <td>NaN</td>\n",
       "      <td>Instructor</td>\n",
       "      <td>TA</td>\n",
       "      <td>Prerequisites</td>\n",
       "      <td>Mandatory credits</td>\n",
       "      <td>Elective credits</td>\n",
       "      <td>Home program</td>\n",
       "      <td>Term part</td>\n",
       "    </tr>\n",
       "    <tr>\n",
       "      <th>2</th>\n",
       "      <td>ECBS5154</td>\n",
       "      <td>Mathematics and Informatics Pre-session for Bu...</td>\n",
       "      <td>Kiss, Oliver</td>\n",
       "      <td>NaN</td>\n",
       "      <td>NaN</td>\n",
       "      <td>0 (3)</td>\n",
       "      <td>NaN</td>\n",
       "      <td>BA</td>\n",
       "      <td>Pre</td>\n",
       "    </tr>\n",
       "    <tr>\n",
       "      <th>3</th>\n",
       "      <td>NaN</td>\n",
       "      <td>NaN</td>\n",
       "      <td>NaN</td>\n",
       "      <td>NaN</td>\n",
       "      <td>NaN</td>\n",
       "      <td>NaN</td>\n",
       "      <td>NaN</td>\n",
       "      <td>NaN</td>\n",
       "      <td>NaN</td>\n",
       "    </tr>\n",
       "    <tr>\n",
       "      <th>4</th>\n",
       "      <td>1. FALL 2024-25 (Sep - Dec)</td>\n",
       "      <td>NaN</td>\n",
       "      <td>NaN</td>\n",
       "      <td>NaN</td>\n",
       "      <td>NaN</td>\n",
       "      <td>NaN</td>\n",
       "      <td>NaN</td>\n",
       "      <td>NaN</td>\n",
       "      <td>NaN</td>\n",
       "    </tr>\n",
       "    <tr>\n",
       "      <th>5</th>\n",
       "      <td>ECBS5075</td>\n",
       "      <td>Maximizing Your Future (remedial course)</td>\n",
       "      <td>Szarvas, Krisztina</td>\n",
       "      <td>NaN</td>\n",
       "      <td>NaN</td>\n",
       "      <td>NaN</td>\n",
       "      <td>0 (2)</td>\n",
       "      <td>F</td>\n",
       "      <td>F1</td>\n",
       "    </tr>\n",
       "    <tr>\n",
       "      <th>6</th>\n",
       "      <td>ECBS5208</td>\n",
       "      <td>Coding 1: Data Management and Analysis with Py...</td>\n",
       "      <td>Duronelly, Peter</td>\n",
       "      <td>TBA</td>\n",
       "      <td>Pre-session</td>\n",
       "      <td>1</td>\n",
       "      <td>NaN</td>\n",
       "      <td>BA</td>\n",
       "      <td>F1</td>\n",
       "    </tr>\n",
       "    <tr>\n",
       "      <th>7</th>\n",
       "      <td>ECBS5140</td>\n",
       "      <td>Data Analysis 1: Exploration - Business Analyt...</td>\n",
       "      <td>Sari, Andras / Duronelly, Peter</td>\n",
       "      <td>NaN</td>\n",
       "      <td>Pre-session</td>\n",
       "      <td>2</td>\n",
       "      <td>NaN</td>\n",
       "      <td>BA</td>\n",
       "      <td>F1</td>\n",
       "    </tr>\n",
       "    <tr>\n",
       "      <th>8</th>\n",
       "      <td>ECBS5146</td>\n",
       "      <td>Data Engineering 1: SQL and Different Shapes o...</td>\n",
       "      <td>Sallo, Laszlo</td>\n",
       "      <td>NaN</td>\n",
       "      <td>Pre-session</td>\n",
       "      <td>2</td>\n",
       "      <td>NaN</td>\n",
       "      <td>BA</td>\n",
       "      <td>F1</td>\n",
       "    </tr>\n",
       "    <tr>\n",
       "      <th>9</th>\n",
       "      <td>ECBS5209</td>\n",
       "      <td>Data Visualization 1: Introduction to Data Vis...</td>\n",
       "      <td>Arato, Bence</td>\n",
       "      <td>NaN</td>\n",
       "      <td>Pre-session</td>\n",
       "      <td>1</td>\n",
       "      <td>NaN</td>\n",
       "      <td>BA</td>\n",
       "      <td>F1</td>\n",
       "    </tr>\n",
       "    <tr>\n",
       "      <th>10</th>\n",
       "      <td>ECBS5142</td>\n",
       "      <td>Data Analysis 2: Finding Patterns with Regress...</td>\n",
       "      <td>Reguly, Agoston</td>\n",
       "      <td>NaN</td>\n",
       "      <td>Pre-session, DA1</td>\n",
       "      <td>2</td>\n",
       "      <td>NaN</td>\n",
       "      <td>BA</td>\n",
       "      <td>F2</td>\n",
       "    </tr>\n",
       "    <tr>\n",
       "      <th>11</th>\n",
       "      <td>ECBS5147</td>\n",
       "      <td>Data Engineering 2: Cloud Computing</td>\n",
       "      <td>Toth, Zoltan</td>\n",
       "      <td>NaN</td>\n",
       "      <td>DA1, DE1</td>\n",
       "      <td>2</td>\n",
       "      <td>NaN</td>\n",
       "      <td>BA</td>\n",
       "      <td>F2</td>\n",
       "    </tr>\n",
       "    <tr>\n",
       "      <th>12</th>\n",
       "      <td>ECBS5251</td>\n",
       "      <td>Data Visualization 2: Charting in Python</td>\n",
       "      <td>Arato, Bence</td>\n",
       "      <td>NaN</td>\n",
       "      <td>DV1</td>\n",
       "      <td>1</td>\n",
       "      <td>NaN</td>\n",
       "      <td>BA</td>\n",
       "      <td>F2</td>\n",
       "    </tr>\n",
       "    <tr>\n",
       "      <th>13</th>\n",
       "      <td>ECBS5306</td>\n",
       "      <td>Coding 2: Web scraping with Python</td>\n",
       "      <td>Orsos, Mihaly</td>\n",
       "      <td>NaN</td>\n",
       "      <td>Pre-session, DA1</td>\n",
       "      <td>NaN</td>\n",
       "      <td>1</td>\n",
       "      <td>BA</td>\n",
       "      <td>F2</td>\n",
       "    </tr>\n",
       "    <tr>\n",
       "      <th>14</th>\n",
       "      <td>ECBS5163</td>\n",
       "      <td>Coding Practice with Python (remedial course)</td>\n",
       "      <td>Orsos, Mihaly</td>\n",
       "      <td>NaN</td>\n",
       "      <td>Pre-session</td>\n",
       "      <td>NaN</td>\n",
       "      <td>0 (2)</td>\n",
       "      <td>BA</td>\n",
       "      <td>F1 F2</td>\n",
       "    </tr>\n",
       "    <tr>\n",
       "      <th>15</th>\n",
       "      <td>ECBS5157</td>\n",
       "      <td>Financial Management</td>\n",
       "      <td>Danis, Andras</td>\n",
       "      <td>NaN</td>\n",
       "      <td>Pre-session</td>\n",
       "      <td>NaN</td>\n",
       "      <td>2</td>\n",
       "      <td>F</td>\n",
       "      <td>F1</td>\n",
       "    </tr>\n",
       "    <tr>\n",
       "      <th>16</th>\n",
       "      <td>NaN</td>\n",
       "      <td>NaN</td>\n",
       "      <td>NaN</td>\n",
       "      <td>NaN</td>\n",
       "      <td>NaN</td>\n",
       "      <td>NaN</td>\n",
       "      <td>NaN</td>\n",
       "      <td>NaN</td>\n",
       "      <td>NaN</td>\n",
       "    </tr>\n",
       "    <tr>\n",
       "      <th>17</th>\n",
       "      <td>2. WINTER 2024-25 (Jan- Mar)</td>\n",
       "      <td>NaN</td>\n",
       "      <td>NaN</td>\n",
       "      <td>NaN</td>\n",
       "      <td>NaN</td>\n",
       "      <td>NaN</td>\n",
       "      <td>NaN</td>\n",
       "      <td>NaN</td>\n",
       "      <td>NaN</td>\n",
       "    </tr>\n",
       "    <tr>\n",
       "      <th>18</th>\n",
       "      <td>ECBS5171</td>\n",
       "      <td>Data Analysis 3: Prediction and Introduction t...</td>\n",
       "      <td>Bekes, Gabor  / Duronelly, Peter              ...</td>\n",
       "      <td>NaN</td>\n",
       "      <td>Coding 1, DA1, DA2</td>\n",
       "      <td>3</td>\n",
       "      <td>NaN</td>\n",
       "      <td>BA</td>\n",
       "      <td>W1</td>\n",
       "    </tr>\n",
       "    <tr>\n",
       "      <th>19</th>\n",
       "      <td>ECBS5400</td>\n",
       "      <td>Discovering Discrimination with Data</td>\n",
       "      <td>Koren, Miklos/ Csoka, Imola</td>\n",
       "      <td>NaN</td>\n",
       "      <td>DA2</td>\n",
       "      <td>1</td>\n",
       "      <td>NaN</td>\n",
       "      <td>BA</td>\n",
       "      <td>W1</td>\n",
       "    </tr>\n",
       "    <tr>\n",
       "      <th>20</th>\n",
       "      <td>ECBS5233</td>\n",
       "      <td>Data Science 1: Machine Learning</td>\n",
       "      <td>Divenyi, Janos</td>\n",
       "      <td>NaN</td>\n",
       "      <td>DA1, DA2, DA3</td>\n",
       "      <td>2</td>\n",
       "      <td>NaN</td>\n",
       "      <td>BA</td>\n",
       "      <td>W2</td>\n",
       "    </tr>\n",
       "    <tr>\n",
       "      <th>21</th>\n",
       "      <td>ECBS5188</td>\n",
       "      <td>Use Case Seminars 1.</td>\n",
       "      <td>Weidinger, Wolfgang</td>\n",
       "      <td>NaN</td>\n",
       "      <td>Pre-session, DA1</td>\n",
       "      <td>1</td>\n",
       "      <td>NaN</td>\n",
       "      <td>BA</td>\n",
       "      <td>W1</td>\n",
       "    </tr>\n",
       "    <tr>\n",
       "      <th>22</th>\n",
       "      <td>ECBS5155</td>\n",
       "      <td>Coding 3: Introduction to R</td>\n",
       "      <td>Daroczi, Gergely</td>\n",
       "      <td>NaN</td>\n",
       "      <td>Coding 1</td>\n",
       "      <td>NaN</td>\n",
       "      <td>1</td>\n",
       "      <td>BA</td>\n",
       "      <td>W1</td>\n",
       "    </tr>\n",
       "    <tr>\n",
       "      <th>23</th>\n",
       "      <td>ECBS5210</td>\n",
       "      <td>Data Visualization 3: Practical Data Visualiza...</td>\n",
       "      <td>Daroczi, Gergely</td>\n",
       "      <td>NaN</td>\n",
       "      <td>DA2</td>\n",
       "      <td>NaN</td>\n",
       "      <td>1</td>\n",
       "      <td>BA</td>\n",
       "      <td>W1</td>\n",
       "    </tr>\n",
       "    <tr>\n",
       "      <th>24</th>\n",
       "      <td>ECBS5207</td>\n",
       "      <td>Agile Project Management and Scrum</td>\n",
       "      <td>Sallo, Laszlo</td>\n",
       "      <td>Veress, Attila</td>\n",
       "      <td>Pre-session</td>\n",
       "      <td>NaN</td>\n",
       "      <td>1</td>\n",
       "      <td>BA</td>\n",
       "      <td>W1</td>\n",
       "    </tr>\n",
       "    <tr>\n",
       "      <th>25</th>\n",
       "      <td>DNDS6013</td>\n",
       "      <td>Scientific Python*</td>\n",
       "      <td>Posfai, Marton</td>\n",
       "      <td>NaN</td>\n",
       "      <td>Coding 1, DA1, DA2</td>\n",
       "      <td>NaN</td>\n",
       "      <td>2</td>\n",
       "      <td>DNDS</td>\n",
       "      <td>W1</td>\n",
       "    </tr>\n",
       "    <tr>\n",
       "      <th>26</th>\n",
       "      <td>ECBS5021</td>\n",
       "      <td>Banking IT and Fintech: Bank to the Future*</td>\n",
       "      <td>Szalay, Szabolcs</td>\n",
       "      <td>NaN</td>\n",
       "      <td>Pre-session</td>\n",
       "      <td>NaN</td>\n",
       "      <td>2</td>\n",
       "      <td>F</td>\n",
       "      <td>W2</td>\n",
       "    </tr>\n",
       "    <tr>\n",
       "      <th>27</th>\n",
       "      <td>ECBS5283</td>\n",
       "      <td>Time Series Forecasting</td>\n",
       "      <td>Langen, Henrika</td>\n",
       "      <td>NaN</td>\n",
       "      <td>DA1, DA2, DA3, DS1</td>\n",
       "      <td>NaN</td>\n",
       "      <td>1</td>\n",
       "      <td>BA</td>\n",
       "      <td>W2</td>\n",
       "    </tr>\n",
       "    <tr>\n",
       "      <th>28</th>\n",
       "      <td>ECBS5245</td>\n",
       "      <td>Data Analysis 4: Causal Analysis (advanced)</td>\n",
       "      <td>Bekes, Gabor</td>\n",
       "      <td>Karpov, Danila</td>\n",
       "      <td>NaN</td>\n",
       "      <td>NaN</td>\n",
       "      <td>2</td>\n",
       "      <td>EDP</td>\n",
       "      <td>W2</td>\n",
       "    </tr>\n",
       "    <tr>\n",
       "      <th>29</th>\n",
       "      <td>ECBS5291</td>\n",
       "      <td>Introduction to Geospatial Data Science</td>\n",
       "      <td>Janosov, Milan</td>\n",
       "      <td>NaN</td>\n",
       "      <td>NaN</td>\n",
       "      <td>NaN</td>\n",
       "      <td>1</td>\n",
       "      <td>BA</td>\n",
       "      <td>NaN</td>\n",
       "    </tr>\n",
       "    <tr>\n",
       "      <th>30</th>\n",
       "      <td>ECBS5349</td>\n",
       "      <td>Entrepreneurship and Innovation*</td>\n",
       "      <td>Kozma, Andrea</td>\n",
       "      <td>NaN</td>\n",
       "      <td>Pre-session</td>\n",
       "      <td>NaN</td>\n",
       "      <td>2</td>\n",
       "      <td>F</td>\n",
       "      <td>W2</td>\n",
       "    </tr>\n",
       "    <tr>\n",
       "      <th>31</th>\n",
       "      <td>NaN</td>\n",
       "      <td>NaN</td>\n",
       "      <td>NaN</td>\n",
       "      <td>NaN</td>\n",
       "      <td>NaN</td>\n",
       "      <td>NaN</td>\n",
       "      <td>NaN</td>\n",
       "      <td>NaN</td>\n",
       "      <td>NaN</td>\n",
       "    </tr>\n",
       "    <tr>\n",
       "      <th>32</th>\n",
       "      <td>3. SPRING 2024-25 (Apr - Jun)</td>\n",
       "      <td>NaN</td>\n",
       "      <td>NaN</td>\n",
       "      <td>NaN</td>\n",
       "      <td>NaN</td>\n",
       "      <td>NaN</td>\n",
       "      <td>NaN</td>\n",
       "      <td>NaN</td>\n",
       "      <td>NaN</td>\n",
       "    </tr>\n",
       "    <tr>\n",
       "      <th>33</th>\n",
       "      <td>ECBS5228</td>\n",
       "      <td>Designing Analytics Projects (Capstone Project...</td>\n",
       "      <td>de la Rubia, Eduardo</td>\n",
       "      <td>NaN</td>\n",
       "      <td>DA1, DA2, DA3, DS1</td>\n",
       "      <td>1</td>\n",
       "      <td>NaN</td>\n",
       "      <td>BA</td>\n",
       "      <td>S</td>\n",
       "    </tr>\n",
       "    <tr>\n",
       "      <th>34</th>\n",
       "      <td>ECBS5204</td>\n",
       "      <td>Use Case Seminars 2.</td>\n",
       "      <td>Daroczi, Gergely</td>\n",
       "      <td>NaN</td>\n",
       "      <td>DE2, DA3</td>\n",
       "      <td>1</td>\n",
       "      <td>NaN</td>\n",
       "      <td>BA</td>\n",
       "      <td>S</td>\n",
       "    </tr>\n",
       "    <tr>\n",
       "      <th>35</th>\n",
       "      <td>ECBS5334</td>\n",
       "      <td>Data Engineering 4: Big Data Computing with Ap...</td>\n",
       "      <td>Toth, Zoltan</td>\n",
       "      <td>NaN</td>\n",
       "      <td>DE2, Python                                   ...</td>\n",
       "      <td>NaN</td>\n",
       "      <td>1</td>\n",
       "      <td>BA</td>\n",
       "      <td>S</td>\n",
       "    </tr>\n",
       "    <tr>\n",
       "      <th>36</th>\n",
       "      <td>ECBS5212</td>\n",
       "      <td>Data Visualization 4: Building Dashboards</td>\n",
       "      <td>Daroczi, Gergely</td>\n",
       "      <td>NaN</td>\n",
       "      <td>DV2, DE3</td>\n",
       "      <td>NaN</td>\n",
       "      <td>1</td>\n",
       "      <td>BA</td>\n",
       "      <td>S</td>\n",
       "    </tr>\n",
       "    <tr>\n",
       "      <th>37</th>\n",
       "      <td>ECBS5211</td>\n",
       "      <td>Data Engineering 3: Batch Jobs and APIs</td>\n",
       "      <td>Daroczi, Gergely</td>\n",
       "      <td>NaN</td>\n",
       "      <td>DA2, DV2</td>\n",
       "      <td>NaN</td>\n",
       "      <td>1</td>\n",
       "      <td>BA</td>\n",
       "      <td>W2</td>\n",
       "    </tr>\n",
       "    <tr>\n",
       "      <th>38</th>\n",
       "      <td>ECBS5200</td>\n",
       "      <td>Data Science 3: Deep Learning</td>\n",
       "      <td>de la Rubia, Eduardo</td>\n",
       "      <td>NaN</td>\n",
       "      <td>DA1, DA2, DA3, DS1</td>\n",
       "      <td>NaN</td>\n",
       "      <td>1</td>\n",
       "      <td>BA</td>\n",
       "      <td>S</td>\n",
       "    </tr>\n",
       "    <tr>\n",
       "      <th>39</th>\n",
       "      <td>ECBS5194</td>\n",
       "      <td>Capstone Project Writing (non-taught course)</td>\n",
       "      <td>de la Rubia, Eduardo</td>\n",
       "      <td>NaN</td>\n",
       "      <td>NaN</td>\n",
       "      <td>2</td>\n",
       "      <td>NaN</td>\n",
       "      <td>BA</td>\n",
       "      <td>S</td>\n",
       "    </tr>\n",
       "    <tr>\n",
       "      <th>40</th>\n",
       "      <td>ECBS9105</td>\n",
       "      <td>Capstone Project (non-taught course)</td>\n",
       "      <td>de la Rubia, Eduardo</td>\n",
       "      <td>NaN</td>\n",
       "      <td>NaN</td>\n",
       "      <td>2</td>\n",
       "      <td>NaN</td>\n",
       "      <td>BA</td>\n",
       "      <td>S</td>\n",
       "    </tr>\n",
       "    <tr>\n",
       "      <th>41</th>\n",
       "      <td>NaN</td>\n",
       "      <td>NaN</td>\n",
       "      <td>NaN</td>\n",
       "      <td>NaN</td>\n",
       "      <td>NaN</td>\n",
       "      <td>NaN</td>\n",
       "      <td>NaN</td>\n",
       "      <td>NaN</td>\n",
       "      <td>NaN</td>\n",
       "    </tr>\n",
       "    <tr>\n",
       "      <th>42</th>\n",
       "      <td>Home program: BA: MS in Business Analytics;  F...</td>\n",
       "      <td>NaN</td>\n",
       "      <td>NaN</td>\n",
       "      <td>NaN</td>\n",
       "      <td>NaN</td>\n",
       "      <td>NaN</td>\n",
       "      <td>NaN</td>\n",
       "      <td>NaN</td>\n",
       "      <td>NaN</td>\n",
       "    </tr>\n",
       "    <tr>\n",
       "      <th>43</th>\n",
       "      <td>Prerequisits: Abreviations are used; for examp...</td>\n",
       "      <td>NaN</td>\n",
       "      <td>NaN</td>\n",
       "      <td>NaN</td>\n",
       "      <td>NaN</td>\n",
       "      <td>NaN</td>\n",
       "      <td>NaN</td>\n",
       "      <td>NaN</td>\n",
       "      <td>NaN</td>\n",
       "    </tr>\n",
       "    <tr>\n",
       "      <th>44</th>\n",
       "      <td>Term Part: indicates if course takes place in ...</td>\n",
       "      <td>NaN</td>\n",
       "      <td>NaN</td>\n",
       "      <td>NaN</td>\n",
       "      <td>NaN</td>\n",
       "      <td>NaN</td>\n",
       "      <td>NaN</td>\n",
       "      <td>NaN</td>\n",
       "      <td>NaN</td>\n",
       "    </tr>\n",
       "    <tr>\n",
       "      <th>45</th>\n",
       "      <td>All mandatory courses with BA as home program ...</td>\n",
       "      <td>NaN</td>\n",
       "      <td>NaN</td>\n",
       "      <td>NaN</td>\n",
       "      <td>NaN</td>\n",
       "      <td>NaN</td>\n",
       "      <td>NaN</td>\n",
       "      <td>NaN</td>\n",
       "      <td>NaN</td>\n",
       "    </tr>\n",
       "    <tr>\n",
       "      <th>46</th>\n",
       "      <td>* -Limited availability</td>\n",
       "      <td>NaN</td>\n",
       "      <td>NaN</td>\n",
       "      <td>NaN</td>\n",
       "      <td>NaN</td>\n",
       "      <td>NaN</td>\n",
       "      <td>NaN</td>\n",
       "      <td>NaN</td>\n",
       "      <td>NaN</td>\n",
       "    </tr>\n",
       "    <tr>\n",
       "      <th>47</th>\n",
       "      <td>Course list remains subject to change</td>\n",
       "      <td>NaN</td>\n",
       "      <td>NaN</td>\n",
       "      <td>NaN</td>\n",
       "      <td>NaN</td>\n",
       "      <td>NaN</td>\n",
       "      <td>NaN</td>\n",
       "      <td>NaN</td>\n",
       "      <td>NaN</td>\n",
       "    </tr>\n",
       "  </tbody>\n",
       "</table>\n",
       "</div>"
      ],
      "text/plain": [
       "                                           Unnamed: 0  \\\n",
       "0                                                 NaN   \n",
       "1                                     0. PRE-SESSION    \n",
       "2                                            ECBS5154   \n",
       "3                                                 NaN   \n",
       "4                         1. FALL 2024-25 (Sep - Dec)   \n",
       "5                                            ECBS5075   \n",
       "6                                            ECBS5208   \n",
       "7                                            ECBS5140   \n",
       "8                                            ECBS5146   \n",
       "9                                            ECBS5209   \n",
       "10                                           ECBS5142   \n",
       "11                                           ECBS5147   \n",
       "12                                           ECBS5251   \n",
       "13                                           ECBS5306   \n",
       "14                                           ECBS5163   \n",
       "15                                           ECBS5157   \n",
       "16                                                NaN   \n",
       "17                       2. WINTER 2024-25 (Jan- Mar)   \n",
       "18                                           ECBS5171   \n",
       "19                                           ECBS5400   \n",
       "20                                           ECBS5233   \n",
       "21                                           ECBS5188   \n",
       "22                                           ECBS5155   \n",
       "23                                ECBS5210              \n",
       "24                                ECBS5207              \n",
       "25                                           DNDS6013   \n",
       "26                                ECBS5021              \n",
       "27                                           ECBS5283   \n",
       "28                                           ECBS5245   \n",
       "29                                           ECBS5291   \n",
       "30                                ECBS5349              \n",
       "31                                                NaN   \n",
       "32                      3. SPRING 2024-25 (Apr - Jun)   \n",
       "33                                           ECBS5228   \n",
       "34                                           ECBS5204   \n",
       "35                                ECBS5334              \n",
       "36                                           ECBS5212   \n",
       "37                                ECBS5211              \n",
       "38                                           ECBS5200   \n",
       "39                                           ECBS5194   \n",
       "40                                           ECBS9105   \n",
       "41                                                NaN   \n",
       "42  Home program: BA: MS in Business Analytics;  F...   \n",
       "43  Prerequisits: Abreviations are used; for examp...   \n",
       "44  Term Part: indicates if course takes place in ...   \n",
       "45  All mandatory courses with BA as home program ...   \n",
       "46                            * -Limited availability   \n",
       "47              Course list remains subject to change   \n",
       "\n",
       "                             This version: 2024-08-01  \\\n",
       "0        MS IN BUSINESS ANALYTICS COURSE LIST 2024-25   \n",
       "1                                                 NaN   \n",
       "2   Mathematics and Informatics Pre-session for Bu...   \n",
       "3                                                 NaN   \n",
       "4                                                 NaN   \n",
       "5            Maximizing Your Future (remedial course)   \n",
       "6   Coding 1: Data Management and Analysis with Py...   \n",
       "7   Data Analysis 1: Exploration - Business Analyt...   \n",
       "8   Data Engineering 1: SQL and Different Shapes o...   \n",
       "9   Data Visualization 1: Introduction to Data Vis...   \n",
       "10  Data Analysis 2: Finding Patterns with Regress...   \n",
       "11                Data Engineering 2: Cloud Computing   \n",
       "12           Data Visualization 2: Charting in Python   \n",
       "13                 Coding 2: Web scraping with Python   \n",
       "14      Coding Practice with Python (remedial course)   \n",
       "15                               Financial Management   \n",
       "16                                                NaN   \n",
       "17                                                NaN   \n",
       "18  Data Analysis 3: Prediction and Introduction t...   \n",
       "19               Discovering Discrimination with Data   \n",
       "20                   Data Science 1: Machine Learning   \n",
       "21                               Use Case Seminars 1.   \n",
       "22                        Coding 3: Introduction to R   \n",
       "23  Data Visualization 3: Practical Data Visualiza...   \n",
       "24                 Agile Project Management and Scrum   \n",
       "25                                 Scientific Python*   \n",
       "26        Banking IT and Fintech: Bank to the Future*   \n",
       "27                            Time Series Forecasting   \n",
       "28        Data Analysis 4: Causal Analysis (advanced)   \n",
       "29            Introduction to Geospatial Data Science   \n",
       "30                   Entrepreneurship and Innovation*   \n",
       "31                                                NaN   \n",
       "32                                                NaN   \n",
       "33  Designing Analytics Projects (Capstone Project...   \n",
       "34                               Use Case Seminars 2.   \n",
       "35  Data Engineering 4: Big Data Computing with Ap...   \n",
       "36          Data Visualization 4: Building Dashboards   \n",
       "37            Data Engineering 3: Batch Jobs and APIs   \n",
       "38                      Data Science 3: Deep Learning   \n",
       "39       Capstone Project Writing (non-taught course)   \n",
       "40               Capstone Project (non-taught course)   \n",
       "41                                                NaN   \n",
       "42                                                NaN   \n",
       "43                                                NaN   \n",
       "44                                                NaN   \n",
       "45                                                NaN   \n",
       "46                                                NaN   \n",
       "47                                                NaN   \n",
       "\n",
       "                                           Unnamed: 2      Unnamed: 3  \\\n",
       "0                                                 NaN             NaN   \n",
       "1                                          Instructor              TA   \n",
       "2                                       Kiss, Oliver              NaN   \n",
       "3                                                 NaN             NaN   \n",
       "4                                                 NaN             NaN   \n",
       "5                                 Szarvas, Krisztina              NaN   \n",
       "6                                    Duronelly, Peter             TBA   \n",
       "7                     Sari, Andras / Duronelly, Peter             NaN   \n",
       "8                                       Sallo, Laszlo             NaN   \n",
       "9                                        Arato, Bence             NaN   \n",
       "10                                   Reguly, Agoston              NaN   \n",
       "11                                       Toth, Zoltan             NaN   \n",
       "12                                       Arato, Bence             NaN   \n",
       "13                                      Orsos, Mihaly             NaN   \n",
       "14                                      Orsos, Mihaly             NaN   \n",
       "15                                      Danis, Andras             NaN   \n",
       "16                                                NaN             NaN   \n",
       "17                                                NaN             NaN   \n",
       "18  Bekes, Gabor  / Duronelly, Peter              ...             NaN   \n",
       "19                        Koren, Miklos/ Csoka, Imola             NaN   \n",
       "20                                     Divenyi, Janos             NaN   \n",
       "21                                Weidinger, Wolfgang             NaN   \n",
       "22                                   Daroczi, Gergely             NaN   \n",
       "23                                   Daroczi, Gergely             NaN   \n",
       "24                                      Sallo, Laszlo  Veress, Attila   \n",
       "25                                     Posfai, Marton             NaN   \n",
       "26                                   Szalay, Szabolcs             NaN   \n",
       "27                                    Langen, Henrika             NaN   \n",
       "28                                       Bekes, Gabor  Karpov, Danila   \n",
       "29                                     Janosov, Milan             NaN   \n",
       "30                                      Kozma, Andrea             NaN   \n",
       "31                                                NaN             NaN   \n",
       "32                                                NaN             NaN   \n",
       "33                               de la Rubia, Eduardo             NaN   \n",
       "34                                   Daroczi, Gergely             NaN   \n",
       "35                                       Toth, Zoltan             NaN   \n",
       "36                                   Daroczi, Gergely             NaN   \n",
       "37                                   Daroczi, Gergely             NaN   \n",
       "38                               de la Rubia, Eduardo             NaN   \n",
       "39                               de la Rubia, Eduardo             NaN   \n",
       "40                               de la Rubia, Eduardo             NaN   \n",
       "41                                                NaN             NaN   \n",
       "42                                                NaN             NaN   \n",
       "43                                                NaN             NaN   \n",
       "44                                                NaN             NaN   \n",
       "45                                                NaN             NaN   \n",
       "46                                                NaN             NaN   \n",
       "47                                                NaN             NaN   \n",
       "\n",
       "                                           Unnamed: 4         Unnamed: 5  \\\n",
       "0                                                 NaN                NaN   \n",
       "1                                       Prerequisites  Mandatory credits   \n",
       "2                                                 NaN              0 (3)   \n",
       "3                                                 NaN                NaN   \n",
       "4                                                 NaN                NaN   \n",
       "5                                                 NaN                NaN   \n",
       "6                                         Pre-session                  1   \n",
       "7                                         Pre-session                  2   \n",
       "8                                         Pre-session                  2   \n",
       "9                                         Pre-session                  1   \n",
       "10                                   Pre-session, DA1                  2   \n",
       "11                                           DA1, DE1                  2   \n",
       "12                                                DV1                  1   \n",
       "13                                   Pre-session, DA1                NaN   \n",
       "14                                        Pre-session                NaN   \n",
       "15                                        Pre-session                NaN   \n",
       "16                                                NaN                NaN   \n",
       "17                                                NaN                NaN   \n",
       "18                                 Coding 1, DA1, DA2                  3   \n",
       "19                                                DA2                  1   \n",
       "20                                      DA1, DA2, DA3                  2   \n",
       "21                                   Pre-session, DA1                  1   \n",
       "22                                           Coding 1                NaN   \n",
       "23                                                DA2                NaN   \n",
       "24                                        Pre-session                NaN   \n",
       "25                                 Coding 1, DA1, DA2                NaN   \n",
       "26                                        Pre-session                NaN   \n",
       "27                                 DA1, DA2, DA3, DS1                NaN   \n",
       "28                                                NaN                NaN   \n",
       "29                                                NaN                NaN   \n",
       "30                                        Pre-session                NaN   \n",
       "31                                                NaN                NaN   \n",
       "32                                                NaN                NaN   \n",
       "33                                 DA1, DA2, DA3, DS1                  1   \n",
       "34                                           DE2, DA3                  1   \n",
       "35  DE2, Python                                   ...                NaN   \n",
       "36                                           DV2, DE3                NaN   \n",
       "37                                           DA2, DV2                NaN   \n",
       "38                                 DA1, DA2, DA3, DS1                NaN   \n",
       "39                                                NaN                  2   \n",
       "40                                                NaN                  2   \n",
       "41                                                NaN                NaN   \n",
       "42                                                NaN                NaN   \n",
       "43                                                NaN                NaN   \n",
       "44                                                NaN                NaN   \n",
       "45                                                NaN                NaN   \n",
       "46                                                NaN                NaN   \n",
       "47                                                NaN                NaN   \n",
       "\n",
       "          Unnamed: 6    Unnamed: 7 Unnamed: 8  \n",
       "0                NaN           NaN        NaN  \n",
       "1   Elective credits  Home program  Term part  \n",
       "2                NaN            BA        Pre  \n",
       "3                NaN           NaN        NaN  \n",
       "4                NaN           NaN        NaN  \n",
       "5              0 (2)             F         F1  \n",
       "6                NaN            BA         F1  \n",
       "7                NaN            BA         F1  \n",
       "8                NaN            BA         F1  \n",
       "9                NaN            BA         F1  \n",
       "10               NaN            BA         F2  \n",
       "11               NaN            BA         F2  \n",
       "12               NaN            BA         F2  \n",
       "13                 1            BA         F2  \n",
       "14             0 (2)            BA      F1 F2  \n",
       "15                 2             F         F1  \n",
       "16               NaN           NaN        NaN  \n",
       "17               NaN           NaN        NaN  \n",
       "18               NaN            BA         W1  \n",
       "19               NaN            BA         W1  \n",
       "20               NaN            BA         W2  \n",
       "21               NaN            BA         W1  \n",
       "22                 1            BA         W1  \n",
       "23                 1            BA         W1  \n",
       "24                 1            BA         W1  \n",
       "25                 2          DNDS         W1  \n",
       "26                 2             F         W2  \n",
       "27                 1            BA         W2  \n",
       "28                 2           EDP         W2  \n",
       "29                 1            BA        NaN  \n",
       "30                 2             F         W2  \n",
       "31               NaN           NaN        NaN  \n",
       "32               NaN           NaN        NaN  \n",
       "33               NaN            BA          S  \n",
       "34               NaN            BA          S  \n",
       "35                 1            BA          S  \n",
       "36                 1            BA          S  \n",
       "37                 1            BA         W2  \n",
       "38                 1            BA          S  \n",
       "39               NaN            BA          S  \n",
       "40               NaN            BA          S  \n",
       "41               NaN           NaN        NaN  \n",
       "42               NaN           NaN        NaN  \n",
       "43               NaN           NaN        NaN  \n",
       "44               NaN           NaN        NaN  \n",
       "45               NaN           NaN        NaN  \n",
       "46               NaN           NaN        NaN  \n",
       "47               NaN           NaN        NaN  "
      ]
     },
     "execution_count": 2,
     "metadata": {},
     "output_type": "execute_result"
    }
   ],
   "source": [
    "df = pd.read_excel(\"msinbacourselist24-25.xlsx\")"
   ]
  },
  {
   "cell_type": "code",
   "execution_count": null,
   "metadata": {},
   "outputs": [],
   "source": []
  }
 ],
 "metadata": {
  "kernelspec": {
   "display_name": "prelimine-ZIc8cyDB-py3.11",
   "language": "python",
   "name": "python3"
  },
  "language_info": {
   "codemirror_mode": {
    "name": "ipython",
    "version": 3
   },
   "file_extension": ".py",
   "mimetype": "text/x-python",
   "name": "python",
   "nbconvert_exporter": "python",
   "pygments_lexer": "ipython3",
   "version": "3.11.9"
  }
 },
 "nbformat": 4,
 "nbformat_minor": 2
}
